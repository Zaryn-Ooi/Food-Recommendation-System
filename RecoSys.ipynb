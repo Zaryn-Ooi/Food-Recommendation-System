{
  "nbformat": 4,
  "nbformat_minor": 0,
  "metadata": {
    "colab": {
      "name": "RecoSys.ipynb",
      "provenance": [],
      "include_colab_link": true
    },
    "kernelspec": {
      "name": "python3",
      "display_name": "Python 3"
    },
    "language_info": {
      "name": "python"
    }
  },
  "cells": [
    {
      "cell_type": "markdown",
      "metadata": {
        "id": "view-in-github",
        "colab_type": "text"
      },
      "source": [
        "<a href=\"https://colab.research.google.com/github/Zaryn-Ooi/Food-Recommendation-System/blob/main/RecoSys.ipynb\" target=\"_parent\"><img src=\"https://colab.research.google.com/assets/colab-badge.svg\" alt=\"Open In Colab\"/></a>"
      ]
    },
    {
      "cell_type": "markdown",
      "source": [
        "# Building a Restaurant Recommendation System \n",
        "Aim: Build a recommendation system to help users decide what to eat based on their likings.  \n",
        "\n",
        "Data Source: Yelp Dataset\n",
        "\n",
        "Data Content: \n",
        "\n",
        "- 1st dataset: User review data \n",
        "- 2nd dataset: Restaurant description (Eg.name, address, location, ratings)\n",
        "\n"
      ],
      "metadata": {
        "id": "jMeeOgTlVZ0u"
      }
    },
    {
      "cell_type": "markdown",
      "source": [
        "## Import Packages and Dataset \n"
      ],
      "metadata": {
        "id": "iEwTY3F-oN-e"
      }
    },
    {
      "cell_type": "code",
      "source": [
        "from google.colab import drive\n",
        "drive.mount('/content/drive')"
      ],
      "metadata": {
        "id": "_jJ0kQoUk8zk",
        "colab": {
          "base_uri": "https://localhost:8080/"
        },
        "outputId": "4bbaa866-8a73-4b87-cc62-1bebe372d38d"
      },
      "execution_count": null,
      "outputs": [
        {
          "output_type": "stream",
          "name": "stdout",
          "text": [
            "Mounted at /content/drive\n"
          ]
        }
      ]
    },
    {
      "cell_type": "code",
      "execution_count": null,
      "metadata": {
        "id": "SU5GmZ1JkkVl"
      },
      "outputs": [],
      "source": [
        "import numpy as np\n",
        "import pandas as pd\n",
        "import matplotlib.pyplot as plt\n",
        "import seaborn as sns\n",
        "from sklearn.model_selection import train_test_split\n",
        "from sklearn.feature_extraction.text import TfidfVectorizer\n",
        "from nltk.corpus import stopwords \n",
        "from nltk.tokenize import WordPunctTokenizer"
      ]
    },
    {
      "cell_type": "markdown",
      "source": [
        "#### User Review Dataset Overview"
      ],
      "metadata": {
        "id": "UcgGq_nyo70d"
      }
    },
    {
      "cell_type": "code",
      "source": [
        "df_review = pd.read_csv('/content/drive/My Drive/review.csv')\n",
        "df_review = df_review.iloc[:, 1:]\n",
        "df_review.iloc[0]"
      ],
      "metadata": {
        "id": "7FHWsuqKno7d",
        "colab": {
          "base_uri": "https://localhost:8080/"
        },
        "outputId": "df77f2c0-ac00-4a6c-d3f8-d78e726b20b2"
      },
      "execution_count": null,
      "outputs": [
        {
          "output_type": "execute_result",
          "data": {
            "text/plain": [
              "review_id                                 h_BiERAWsreJmpEnwg9gmw\n",
              "user_id                                   J5sT9OGM_HIEO1jnyAItgw\n",
              "business_id                               _C7QiQQc47AOEv4PE3Kong\n",
              "stars                                                          2\n",
              "useful                                                         0\n",
              "funny                                                          1\n",
              "cool                                                           0\n",
              "text           I had heard so much about this place but never...\n",
              "date2                                                 2015-06-23\n",
              "Name: 0, dtype: object"
            ]
          },
          "metadata": {},
          "execution_count": 3
        }
      ]
    },
    {
      "cell_type": "code",
      "source": [
        "df_review.info()"
      ],
      "metadata": {
        "id": "qgX0RZyupxlU",
        "colab": {
          "base_uri": "https://localhost:8080/"
        },
        "outputId": "479e6bb2-d324-4029-f86e-ac7560b13a72"
      },
      "execution_count": null,
      "outputs": [
        {
          "output_type": "stream",
          "name": "stdout",
          "text": [
            "<class 'pandas.core.frame.DataFrame'>\n",
            "RangeIndex: 246622 entries, 0 to 246621\n",
            "Data columns (total 9 columns):\n",
            " #   Column       Non-Null Count   Dtype \n",
            "---  ------       --------------   ----- \n",
            " 0   review_id    246622 non-null  object\n",
            " 1   user_id      246622 non-null  object\n",
            " 2   business_id  246622 non-null  object\n",
            " 3   stars        246622 non-null  int64 \n",
            " 4   useful       246622 non-null  int64 \n",
            " 5   funny        246622 non-null  int64 \n",
            " 6   cool         246622 non-null  int64 \n",
            " 7   text         246622 non-null  object\n",
            " 8   date2        246622 non-null  object\n",
            "dtypes: int64(4), object(5)\n",
            "memory usage: 16.9+ MB\n"
          ]
        }
      ]
    },
    {
      "cell_type": "code",
      "source": [
        "len(df_review)"
      ],
      "metadata": {
        "colab": {
          "base_uri": "https://localhost:8080/"
        },
        "id": "GAshojIeuJt8",
        "outputId": "7d65fdc1-9c30-4e2e-ac17-f80380ee8903"
      },
      "execution_count": null,
      "outputs": [
        {
          "output_type": "execute_result",
          "data": {
            "text/plain": [
              "246622"
            ]
          },
          "metadata": {},
          "execution_count": 5
        }
      ]
    },
    {
      "cell_type": "code",
      "source": [
        "df_review.shape"
      ],
      "metadata": {
        "colab": {
          "base_uri": "https://localhost:8080/"
        },
        "id": "xn1cbprpvvha",
        "outputId": "4855d49e-83ef-4ef8-bed1-245798e2fd0d"
      },
      "execution_count": null,
      "outputs": [
        {
          "output_type": "execute_result",
          "data": {
            "text/plain": [
              "(246622, 9)"
            ]
          },
          "metadata": {},
          "execution_count": 6
        }
      ]
    },
    {
      "cell_type": "code",
      "source": [
        "df_review.head()"
      ],
      "metadata": {
        "colab": {
          "base_uri": "https://localhost:8080/",
          "height": 337
        },
        "id": "o7A6Z6z2wG28",
        "outputId": "37c10490-bc90-4ca9-8a7d-ac2a7ee1655d"
      },
      "execution_count": null,
      "outputs": [
        {
          "output_type": "execute_result",
          "data": {
            "text/plain": [
              "                review_id                 user_id             business_id  \\\n",
              "0  h_BiERAWsreJmpEnwg9gmw  J5sT9OGM_HIEO1jnyAItgw  _C7QiQQc47AOEv4PE3Kong   \n",
              "1  abFdLPoawYFKOF4sYv2rdA  oGFSMLwrVZFe4JL5b_YOfw  al3Ri6TEqa2rBzjHsn0T_g   \n",
              "2  k-rcig_9hU-tRHts-P_Vtw  88IP8keHlnsCT4ksZNs5mw  M2h3vq8WeSiQAmyJtrPvbQ   \n",
              "3  GNk0ybEjcpAF8rf8H5LqdA  whASopgK0XTo4fKA78uSaw  Om9eoEcwPK1lp1-HEjBzeQ   \n",
              "4  kZ7_MR9-XEkhnzzU2Li2eg  WNRmgAmR_LR-ey8bOzJ8Og  U3grYFIeu6RgAAQgdriHww   \n",
              "\n",
              "   stars  useful  funny  cool  \\\n",
              "0      2       0      1     0   \n",
              "1      3       1      1     0   \n",
              "2      5       0      0     0   \n",
              "3      2       0      0     0   \n",
              "4      3       0      0     0   \n",
              "\n",
              "                                                text       date2  \n",
              "0  I had heard so much about this place but never...  2015-06-23  \n",
              "1  I was really looking forward to Merchant becau...  2013-07-16  \n",
              "2  I had an excellent meal here and the service w...  2016-03-20  \n",
              "3  Very disappointing. We give it a 2 star instea...  2017-03-06  \n",
              "4  Long line way before it opens\\nLots of Stairs,...  2017-08-18  "
            ],
            "text/html": [
              "\n",
              "  <div id=\"df-91e9db1c-254c-4248-93b6-79a9ca757441\">\n",
              "    <div class=\"colab-df-container\">\n",
              "      <div>\n",
              "<style scoped>\n",
              "    .dataframe tbody tr th:only-of-type {\n",
              "        vertical-align: middle;\n",
              "    }\n",
              "\n",
              "    .dataframe tbody tr th {\n",
              "        vertical-align: top;\n",
              "    }\n",
              "\n",
              "    .dataframe thead th {\n",
              "        text-align: right;\n",
              "    }\n",
              "</style>\n",
              "<table border=\"1\" class=\"dataframe\">\n",
              "  <thead>\n",
              "    <tr style=\"text-align: right;\">\n",
              "      <th></th>\n",
              "      <th>review_id</th>\n",
              "      <th>user_id</th>\n",
              "      <th>business_id</th>\n",
              "      <th>stars</th>\n",
              "      <th>useful</th>\n",
              "      <th>funny</th>\n",
              "      <th>cool</th>\n",
              "      <th>text</th>\n",
              "      <th>date2</th>\n",
              "    </tr>\n",
              "  </thead>\n",
              "  <tbody>\n",
              "    <tr>\n",
              "      <th>0</th>\n",
              "      <td>h_BiERAWsreJmpEnwg9gmw</td>\n",
              "      <td>J5sT9OGM_HIEO1jnyAItgw</td>\n",
              "      <td>_C7QiQQc47AOEv4PE3Kong</td>\n",
              "      <td>2</td>\n",
              "      <td>0</td>\n",
              "      <td>1</td>\n",
              "      <td>0</td>\n",
              "      <td>I had heard so much about this place but never...</td>\n",
              "      <td>2015-06-23</td>\n",
              "    </tr>\n",
              "    <tr>\n",
              "      <th>1</th>\n",
              "      <td>abFdLPoawYFKOF4sYv2rdA</td>\n",
              "      <td>oGFSMLwrVZFe4JL5b_YOfw</td>\n",
              "      <td>al3Ri6TEqa2rBzjHsn0T_g</td>\n",
              "      <td>3</td>\n",
              "      <td>1</td>\n",
              "      <td>1</td>\n",
              "      <td>0</td>\n",
              "      <td>I was really looking forward to Merchant becau...</td>\n",
              "      <td>2013-07-16</td>\n",
              "    </tr>\n",
              "    <tr>\n",
              "      <th>2</th>\n",
              "      <td>k-rcig_9hU-tRHts-P_Vtw</td>\n",
              "      <td>88IP8keHlnsCT4ksZNs5mw</td>\n",
              "      <td>M2h3vq8WeSiQAmyJtrPvbQ</td>\n",
              "      <td>5</td>\n",
              "      <td>0</td>\n",
              "      <td>0</td>\n",
              "      <td>0</td>\n",
              "      <td>I had an excellent meal here and the service w...</td>\n",
              "      <td>2016-03-20</td>\n",
              "    </tr>\n",
              "    <tr>\n",
              "      <th>3</th>\n",
              "      <td>GNk0ybEjcpAF8rf8H5LqdA</td>\n",
              "      <td>whASopgK0XTo4fKA78uSaw</td>\n",
              "      <td>Om9eoEcwPK1lp1-HEjBzeQ</td>\n",
              "      <td>2</td>\n",
              "      <td>0</td>\n",
              "      <td>0</td>\n",
              "      <td>0</td>\n",
              "      <td>Very disappointing. We give it a 2 star instea...</td>\n",
              "      <td>2017-03-06</td>\n",
              "    </tr>\n",
              "    <tr>\n",
              "      <th>4</th>\n",
              "      <td>kZ7_MR9-XEkhnzzU2Li2eg</td>\n",
              "      <td>WNRmgAmR_LR-ey8bOzJ8Og</td>\n",
              "      <td>U3grYFIeu6RgAAQgdriHww</td>\n",
              "      <td>3</td>\n",
              "      <td>0</td>\n",
              "      <td>0</td>\n",
              "      <td>0</td>\n",
              "      <td>Long line way before it opens\\nLots of Stairs,...</td>\n",
              "      <td>2017-08-18</td>\n",
              "    </tr>\n",
              "  </tbody>\n",
              "</table>\n",
              "</div>\n",
              "      <button class=\"colab-df-convert\" onclick=\"convertToInteractive('df-91e9db1c-254c-4248-93b6-79a9ca757441')\"\n",
              "              title=\"Convert this dataframe to an interactive table.\"\n",
              "              style=\"display:none;\">\n",
              "        \n",
              "  <svg xmlns=\"http://www.w3.org/2000/svg\" height=\"24px\"viewBox=\"0 0 24 24\"\n",
              "       width=\"24px\">\n",
              "    <path d=\"M0 0h24v24H0V0z\" fill=\"none\"/>\n",
              "    <path d=\"M18.56 5.44l.94 2.06.94-2.06 2.06-.94-2.06-.94-.94-2.06-.94 2.06-2.06.94zm-11 1L8.5 8.5l.94-2.06 2.06-.94-2.06-.94L8.5 2.5l-.94 2.06-2.06.94zm10 10l.94 2.06.94-2.06 2.06-.94-2.06-.94-.94-2.06-.94 2.06-2.06.94z\"/><path d=\"M17.41 7.96l-1.37-1.37c-.4-.4-.92-.59-1.43-.59-.52 0-1.04.2-1.43.59L10.3 9.45l-7.72 7.72c-.78.78-.78 2.05 0 2.83L4 21.41c.39.39.9.59 1.41.59.51 0 1.02-.2 1.41-.59l7.78-7.78 2.81-2.81c.8-.78.8-2.07 0-2.86zM5.41 20L4 18.59l7.72-7.72 1.47 1.35L5.41 20z\"/>\n",
              "  </svg>\n",
              "      </button>\n",
              "      \n",
              "  <style>\n",
              "    .colab-df-container {\n",
              "      display:flex;\n",
              "      flex-wrap:wrap;\n",
              "      gap: 12px;\n",
              "    }\n",
              "\n",
              "    .colab-df-convert {\n",
              "      background-color: #E8F0FE;\n",
              "      border: none;\n",
              "      border-radius: 50%;\n",
              "      cursor: pointer;\n",
              "      display: none;\n",
              "      fill: #1967D2;\n",
              "      height: 32px;\n",
              "      padding: 0 0 0 0;\n",
              "      width: 32px;\n",
              "    }\n",
              "\n",
              "    .colab-df-convert:hover {\n",
              "      background-color: #E2EBFA;\n",
              "      box-shadow: 0px 1px 2px rgba(60, 64, 67, 0.3), 0px 1px 3px 1px rgba(60, 64, 67, 0.15);\n",
              "      fill: #174EA6;\n",
              "    }\n",
              "\n",
              "    [theme=dark] .colab-df-convert {\n",
              "      background-color: #3B4455;\n",
              "      fill: #D2E3FC;\n",
              "    }\n",
              "\n",
              "    [theme=dark] .colab-df-convert:hover {\n",
              "      background-color: #434B5C;\n",
              "      box-shadow: 0px 1px 3px 1px rgba(0, 0, 0, 0.15);\n",
              "      filter: drop-shadow(0px 1px 2px rgba(0, 0, 0, 0.3));\n",
              "      fill: #FFFFFF;\n",
              "    }\n",
              "  </style>\n",
              "\n",
              "      <script>\n",
              "        const buttonEl =\n",
              "          document.querySelector('#df-91e9db1c-254c-4248-93b6-79a9ca757441 button.colab-df-convert');\n",
              "        buttonEl.style.display =\n",
              "          google.colab.kernel.accessAllowed ? 'block' : 'none';\n",
              "\n",
              "        async function convertToInteractive(key) {\n",
              "          const element = document.querySelector('#df-91e9db1c-254c-4248-93b6-79a9ca757441');\n",
              "          const dataTable =\n",
              "            await google.colab.kernel.invokeFunction('convertToInteractive',\n",
              "                                                     [key], {});\n",
              "          if (!dataTable) return;\n",
              "\n",
              "          const docLinkHtml = 'Like what you see? Visit the ' +\n",
              "            '<a target=\"_blank\" href=https://colab.research.google.com/notebooks/data_table.ipynb>data table notebook</a>'\n",
              "            + ' to learn more about interactive tables.';\n",
              "          element.innerHTML = '';\n",
              "          dataTable['output_type'] = 'display_data';\n",
              "          await google.colab.output.renderOutput(dataTable, element);\n",
              "          const docLink = document.createElement('div');\n",
              "          docLink.innerHTML = docLinkHtml;\n",
              "          element.appendChild(docLink);\n",
              "        }\n",
              "      </script>\n",
              "    </div>\n",
              "  </div>\n",
              "  "
            ]
          },
          "metadata": {},
          "execution_count": 7
        }
      ]
    },
    {
      "cell_type": "markdown",
      "source": [
        "#### Restaurant Description Dataset Overview"
      ],
      "metadata": {
        "id": "der6FbfQpZ8J"
      }
    },
    {
      "cell_type": "code",
      "source": [
        "df_business = pd.read_json('/content/drive/My Drive/business.json', lines=True)"
      ],
      "metadata": {
        "id": "EoXLyO5q_Pdy"
      },
      "execution_count": null,
      "outputs": []
    },
    {
      "cell_type": "code",
      "source": [
        "len(df_business)"
      ],
      "metadata": {
        "id": "KEOIBy60Ch6n",
        "colab": {
          "base_uri": "https://localhost:8080/"
        },
        "outputId": "80b615c1-9a6a-4454-c948-3d96d0f09245"
      },
      "execution_count": null,
      "outputs": [
        {
          "output_type": "execute_result",
          "data": {
            "text/plain": [
              "150346"
            ]
          },
          "metadata": {},
          "execution_count": 9
        }
      ]
    },
    {
      "cell_type": "code",
      "source": [
        "business_list = list(df_review['business_id'])"
      ],
      "metadata": {
        "id": "oFflUu67BB64"
      },
      "execution_count": null,
      "outputs": []
    },
    {
      "cell_type": "code",
      "source": [
        "df_business = df_business[df_business['business_id'].isin(business_list)]\n",
        "len(df_business)"
      ],
      "metadata": {
        "id": "6siOq_VTCOb8",
        "colab": {
          "base_uri": "https://localhost:8080/"
        },
        "outputId": "c92534b8-b518-45dd-fed6-e4c13c849f70"
      },
      "execution_count": null,
      "outputs": [
        {
          "output_type": "execute_result",
          "data": {
            "text/plain": [
              "11797"
            ]
          },
          "metadata": {},
          "execution_count": 11
        }
      ]
    },
    {
      "cell_type": "code",
      "source": [
        "df_business.shape"
      ],
      "metadata": {
        "colab": {
          "base_uri": "https://localhost:8080/"
        },
        "id": "0QJxW2iiv3rQ",
        "outputId": "0462436b-56a8-4fe5-c459-bd3aebf4fe33"
      },
      "execution_count": null,
      "outputs": [
        {
          "output_type": "execute_result",
          "data": {
            "text/plain": [
              "(11797, 14)"
            ]
          },
          "metadata": {},
          "execution_count": 12
        }
      ]
    },
    {
      "cell_type": "code",
      "source": [
        "df_business.info()"
      ],
      "metadata": {
        "colab": {
          "base_uri": "https://localhost:8080/"
        },
        "id": "RVbSNwxfXCXi",
        "outputId": "f900a28e-b53d-488f-ad7c-69a6679e084a"
      },
      "execution_count": null,
      "outputs": [
        {
          "output_type": "stream",
          "name": "stdout",
          "text": [
            "<class 'pandas.core.frame.DataFrame'>\n",
            "Int64Index: 11797 entries, 30070 to 45104\n",
            "Data columns (total 14 columns):\n",
            " #   Column        Non-Null Count  Dtype  \n",
            "---  ------        --------------  -----  \n",
            " 0   business_id   11797 non-null  object \n",
            " 1   name          11797 non-null  object \n",
            " 2   address       11797 non-null  object \n",
            " 3   city          11797 non-null  object \n",
            " 4   state         11797 non-null  object \n",
            " 5   postal_code   11797 non-null  object \n",
            " 6   latitude      11797 non-null  float64\n",
            " 7   longitude     11797 non-null  float64\n",
            " 8   stars         11797 non-null  float64\n",
            " 9   review_count  11797 non-null  int64  \n",
            " 10  is_open       11797 non-null  int64  \n",
            " 11  attributes    10993 non-null  object \n",
            " 12  categories    11791 non-null  object \n",
            " 13  hours         9891 non-null   object \n",
            "dtypes: float64(3), int64(2), object(9)\n",
            "memory usage: 1.4+ MB\n"
          ]
        }
      ]
    },
    {
      "cell_type": "code",
      "source": [
        "df_business.head()"
      ],
      "metadata": {
        "colab": {
          "base_uri": "https://localhost:8080/",
          "height": 583
        },
        "id": "nn1FbUgBwBe5",
        "outputId": "25c87614-b223-4f9e-9d45-1c14bcc2edd8"
      },
      "execution_count": null,
      "outputs": [
        {
          "output_type": "execute_result",
          "data": {
            "text/plain": [
              "                  business_id                       name  \\\n",
              "30070  zOllte2g-139fzkcdgnu6w          Judge's Bar-B-Que   \n",
              "30071  qMBL1awgwxreifGsm-kZ8g       Starlight Moving Co.   \n",
              "30074  tmqVB8UchkzsMFq9xnpyGQ  Life is Good Chiropractic   \n",
              "30075  tQUkoSqK59m0jXNWL4QyiQ           East Side Smiles   \n",
              "30076  t72SvAiBRX1dKO8D8PvWrg  United States Post Office   \n",
              "\n",
              "                       address          city state postal_code   latitude  \\\n",
              "30070       2104 W Michigan St  Indianapolis    IN       46222  39.774852   \n",
              "30071          2801 Foster Ave     Nashville    TN       37210  36.154232   \n",
              "30074  190 W Magee Rd, Ste 152    Oro Valley    AZ       85704  32.352788   \n",
              "30075              7 N 10th St     Nashville    TN       37206  36.178629   \n",
              "30076   132 N Kansas St, Ste 1  Edwardsville    IL       62025  38.812945   \n",
              "\n",
              "        longitude  stars  review_count  is_open  \\\n",
              "30070  -86.197124    4.0            55        0   \n",
              "30071  -86.737061    4.0            16        0   \n",
              "30074 -110.972523    5.0            17        1   \n",
              "30075  -86.751675    4.0            40        1   \n",
              "30076  -89.954296    3.0             5        1   \n",
              "\n",
              "                                              attributes  \\\n",
              "30070  {'BusinessParking': '{'garage': False, 'street...   \n",
              "30071             {'BusinessAcceptsCreditCards': 'True'}   \n",
              "30074  {'ByAppointmentOnly': 'False', 'RestaurantsPri...   \n",
              "30075  {'ByAppointmentOnly': 'True', 'AcceptsInsuranc...   \n",
              "30076                                               None   \n",
              "\n",
              "                                              categories  \\\n",
              "30070  Restaurants, Barbeque, Event Planning & Servic...   \n",
              "30071                              Movers, Home Services   \n",
              "30074  Chiropractors, Massage Therapy, Massage, Vitam...   \n",
              "30075  Health & Medical, General Dentistry, Dentists,...   \n",
              "30076         Public Services & Government, Post Offices   \n",
              "\n",
              "                                                   hours  \n",
              "30070  {'Monday': '11:0-16:0', 'Tuesday': '11:0-16:0'...  \n",
              "30071  {'Monday': '9:0-18:0', 'Tuesday': '9:0-18:0', ...  \n",
              "30074  {'Monday': '13:0-16:0', 'Wednesday': '13:0-16:...  \n",
              "30075  {'Monday': '0:0-0:0', 'Tuesday': '8:0-17:0', '...  \n",
              "30076  {'Monday': '8:30-17:30', 'Tuesday': '8:30-17:3...  "
            ],
            "text/html": [
              "\n",
              "  <div id=\"df-f16799f3-63f7-47ea-9a9c-53dceb42f4be\">\n",
              "    <div class=\"colab-df-container\">\n",
              "      <div>\n",
              "<style scoped>\n",
              "    .dataframe tbody tr th:only-of-type {\n",
              "        vertical-align: middle;\n",
              "    }\n",
              "\n",
              "    .dataframe tbody tr th {\n",
              "        vertical-align: top;\n",
              "    }\n",
              "\n",
              "    .dataframe thead th {\n",
              "        text-align: right;\n",
              "    }\n",
              "</style>\n",
              "<table border=\"1\" class=\"dataframe\">\n",
              "  <thead>\n",
              "    <tr style=\"text-align: right;\">\n",
              "      <th></th>\n",
              "      <th>business_id</th>\n",
              "      <th>name</th>\n",
              "      <th>address</th>\n",
              "      <th>city</th>\n",
              "      <th>state</th>\n",
              "      <th>postal_code</th>\n",
              "      <th>latitude</th>\n",
              "      <th>longitude</th>\n",
              "      <th>stars</th>\n",
              "      <th>review_count</th>\n",
              "      <th>is_open</th>\n",
              "      <th>attributes</th>\n",
              "      <th>categories</th>\n",
              "      <th>hours</th>\n",
              "    </tr>\n",
              "  </thead>\n",
              "  <tbody>\n",
              "    <tr>\n",
              "      <th>30070</th>\n",
              "      <td>zOllte2g-139fzkcdgnu6w</td>\n",
              "      <td>Judge's Bar-B-Que</td>\n",
              "      <td>2104 W Michigan St</td>\n",
              "      <td>Indianapolis</td>\n",
              "      <td>IN</td>\n",
              "      <td>46222</td>\n",
              "      <td>39.774852</td>\n",
              "      <td>-86.197124</td>\n",
              "      <td>4.0</td>\n",
              "      <td>55</td>\n",
              "      <td>0</td>\n",
              "      <td>{'BusinessParking': '{'garage': False, 'street...</td>\n",
              "      <td>Restaurants, Barbeque, Event Planning &amp; Servic...</td>\n",
              "      <td>{'Monday': '11:0-16:0', 'Tuesday': '11:0-16:0'...</td>\n",
              "    </tr>\n",
              "    <tr>\n",
              "      <th>30071</th>\n",
              "      <td>qMBL1awgwxreifGsm-kZ8g</td>\n",
              "      <td>Starlight Moving Co.</td>\n",
              "      <td>2801 Foster Ave</td>\n",
              "      <td>Nashville</td>\n",
              "      <td>TN</td>\n",
              "      <td>37210</td>\n",
              "      <td>36.154232</td>\n",
              "      <td>-86.737061</td>\n",
              "      <td>4.0</td>\n",
              "      <td>16</td>\n",
              "      <td>0</td>\n",
              "      <td>{'BusinessAcceptsCreditCards': 'True'}</td>\n",
              "      <td>Movers, Home Services</td>\n",
              "      <td>{'Monday': '9:0-18:0', 'Tuesday': '9:0-18:0', ...</td>\n",
              "    </tr>\n",
              "    <tr>\n",
              "      <th>30074</th>\n",
              "      <td>tmqVB8UchkzsMFq9xnpyGQ</td>\n",
              "      <td>Life is Good Chiropractic</td>\n",
              "      <td>190 W Magee Rd, Ste 152</td>\n",
              "      <td>Oro Valley</td>\n",
              "      <td>AZ</td>\n",
              "      <td>85704</td>\n",
              "      <td>32.352788</td>\n",
              "      <td>-110.972523</td>\n",
              "      <td>5.0</td>\n",
              "      <td>17</td>\n",
              "      <td>1</td>\n",
              "      <td>{'ByAppointmentOnly': 'False', 'RestaurantsPri...</td>\n",
              "      <td>Chiropractors, Massage Therapy, Massage, Vitam...</td>\n",
              "      <td>{'Monday': '13:0-16:0', 'Wednesday': '13:0-16:...</td>\n",
              "    </tr>\n",
              "    <tr>\n",
              "      <th>30075</th>\n",
              "      <td>tQUkoSqK59m0jXNWL4QyiQ</td>\n",
              "      <td>East Side Smiles</td>\n",
              "      <td>7 N 10th St</td>\n",
              "      <td>Nashville</td>\n",
              "      <td>TN</td>\n",
              "      <td>37206</td>\n",
              "      <td>36.178629</td>\n",
              "      <td>-86.751675</td>\n",
              "      <td>4.0</td>\n",
              "      <td>40</td>\n",
              "      <td>1</td>\n",
              "      <td>{'ByAppointmentOnly': 'True', 'AcceptsInsuranc...</td>\n",
              "      <td>Health &amp; Medical, General Dentistry, Dentists,...</td>\n",
              "      <td>{'Monday': '0:0-0:0', 'Tuesday': '8:0-17:0', '...</td>\n",
              "    </tr>\n",
              "    <tr>\n",
              "      <th>30076</th>\n",
              "      <td>t72SvAiBRX1dKO8D8PvWrg</td>\n",
              "      <td>United States Post Office</td>\n",
              "      <td>132 N Kansas St, Ste 1</td>\n",
              "      <td>Edwardsville</td>\n",
              "      <td>IL</td>\n",
              "      <td>62025</td>\n",
              "      <td>38.812945</td>\n",
              "      <td>-89.954296</td>\n",
              "      <td>3.0</td>\n",
              "      <td>5</td>\n",
              "      <td>1</td>\n",
              "      <td>None</td>\n",
              "      <td>Public Services &amp; Government, Post Offices</td>\n",
              "      <td>{'Monday': '8:30-17:30', 'Tuesday': '8:30-17:3...</td>\n",
              "    </tr>\n",
              "  </tbody>\n",
              "</table>\n",
              "</div>\n",
              "      <button class=\"colab-df-convert\" onclick=\"convertToInteractive('df-f16799f3-63f7-47ea-9a9c-53dceb42f4be')\"\n",
              "              title=\"Convert this dataframe to an interactive table.\"\n",
              "              style=\"display:none;\">\n",
              "        \n",
              "  <svg xmlns=\"http://www.w3.org/2000/svg\" height=\"24px\"viewBox=\"0 0 24 24\"\n",
              "       width=\"24px\">\n",
              "    <path d=\"M0 0h24v24H0V0z\" fill=\"none\"/>\n",
              "    <path d=\"M18.56 5.44l.94 2.06.94-2.06 2.06-.94-2.06-.94-.94-2.06-.94 2.06-2.06.94zm-11 1L8.5 8.5l.94-2.06 2.06-.94-2.06-.94L8.5 2.5l-.94 2.06-2.06.94zm10 10l.94 2.06.94-2.06 2.06-.94-2.06-.94-.94-2.06-.94 2.06-2.06.94z\"/><path d=\"M17.41 7.96l-1.37-1.37c-.4-.4-.92-.59-1.43-.59-.52 0-1.04.2-1.43.59L10.3 9.45l-7.72 7.72c-.78.78-.78 2.05 0 2.83L4 21.41c.39.39.9.59 1.41.59.51 0 1.02-.2 1.41-.59l7.78-7.78 2.81-2.81c.8-.78.8-2.07 0-2.86zM5.41 20L4 18.59l7.72-7.72 1.47 1.35L5.41 20z\"/>\n",
              "  </svg>\n",
              "      </button>\n",
              "      \n",
              "  <style>\n",
              "    .colab-df-container {\n",
              "      display:flex;\n",
              "      flex-wrap:wrap;\n",
              "      gap: 12px;\n",
              "    }\n",
              "\n",
              "    .colab-df-convert {\n",
              "      background-color: #E8F0FE;\n",
              "      border: none;\n",
              "      border-radius: 50%;\n",
              "      cursor: pointer;\n",
              "      display: none;\n",
              "      fill: #1967D2;\n",
              "      height: 32px;\n",
              "      padding: 0 0 0 0;\n",
              "      width: 32px;\n",
              "    }\n",
              "\n",
              "    .colab-df-convert:hover {\n",
              "      background-color: #E2EBFA;\n",
              "      box-shadow: 0px 1px 2px rgba(60, 64, 67, 0.3), 0px 1px 3px 1px rgba(60, 64, 67, 0.15);\n",
              "      fill: #174EA6;\n",
              "    }\n",
              "\n",
              "    [theme=dark] .colab-df-convert {\n",
              "      background-color: #3B4455;\n",
              "      fill: #D2E3FC;\n",
              "    }\n",
              "\n",
              "    [theme=dark] .colab-df-convert:hover {\n",
              "      background-color: #434B5C;\n",
              "      box-shadow: 0px 1px 3px 1px rgba(0, 0, 0, 0.15);\n",
              "      filter: drop-shadow(0px 1px 2px rgba(0, 0, 0, 0.3));\n",
              "      fill: #FFFFFF;\n",
              "    }\n",
              "  </style>\n",
              "\n",
              "      <script>\n",
              "        const buttonEl =\n",
              "          document.querySelector('#df-f16799f3-63f7-47ea-9a9c-53dceb42f4be button.colab-df-convert');\n",
              "        buttonEl.style.display =\n",
              "          google.colab.kernel.accessAllowed ? 'block' : 'none';\n",
              "\n",
              "        async function convertToInteractive(key) {\n",
              "          const element = document.querySelector('#df-f16799f3-63f7-47ea-9a9c-53dceb42f4be');\n",
              "          const dataTable =\n",
              "            await google.colab.kernel.invokeFunction('convertToInteractive',\n",
              "                                                     [key], {});\n",
              "          if (!dataTable) return;\n",
              "\n",
              "          const docLinkHtml = 'Like what you see? Visit the ' +\n",
              "            '<a target=\"_blank\" href=https://colab.research.google.com/notebooks/data_table.ipynb>data table notebook</a>'\n",
              "            + ' to learn more about interactive tables.';\n",
              "          element.innerHTML = '';\n",
              "          dataTable['output_type'] = 'display_data';\n",
              "          await google.colab.output.renderOutput(dataTable, element);\n",
              "          const docLink = document.createElement('div');\n",
              "          docLink.innerHTML = docLinkHtml;\n",
              "          element.appendChild(docLink);\n",
              "        }\n",
              "      </script>\n",
              "    </div>\n",
              "  </div>\n",
              "  "
            ]
          },
          "metadata": {},
          "execution_count": 14
        }
      ]
    },
    {
      "cell_type": "markdown",
      "source": [
        "## Data Cleaning"
      ],
      "metadata": {
        "id": "La8pVR7ztAJV"
      }
    },
    {
      "cell_type": "code",
      "source": [
        "df = df_review[['business_id', 'user_id', 'stars', 'text']]"
      ],
      "metadata": {
        "id": "TxS9wYEI5UGt"
      },
      "execution_count": null,
      "outputs": []
    },
    {
      "cell_type": "code",
      "source": [
        "len(df)"
      ],
      "metadata": {
        "colab": {
          "base_uri": "https://localhost:8080/"
        },
        "id": "vIf5jBJeF297",
        "outputId": "2b0e5844-7c55-4852-f710-a470fc75abec"
      },
      "execution_count": null,
      "outputs": [
        {
          "output_type": "execute_result",
          "data": {
            "text/plain": [
              "246622"
            ]
          },
          "metadata": {},
          "execution_count": 16
        }
      ]
    },
    {
      "cell_type": "code",
      "source": [
        "df = df.head(30000)"
      ],
      "metadata": {
        "id": "VNRes5rSGQUd"
      },
      "execution_count": null,
      "outputs": []
    },
    {
      "cell_type": "code",
      "source": [
        "len(df)"
      ],
      "metadata": {
        "colab": {
          "base_uri": "https://localhost:8080/"
        },
        "id": "d6WG6VcuHKAm",
        "outputId": "5025e7f4-b1c6-46b3-8d3d-2aef589b0d5e"
      },
      "execution_count": null,
      "outputs": [
        {
          "output_type": "execute_result",
          "data": {
            "text/plain": [
              "30000"
            ]
          },
          "metadata": {},
          "execution_count": 18
        }
      ]
    },
    {
      "cell_type": "code",
      "source": [
        "# Remove punctuation\n",
        "import string \n",
        "punctuation = string.punctuation\n",
        "def remove_punctuation(sentence):\n",
        "  return sentence.translate(str.maketrans('','', punctuation)) # replace punctutation with ''\n",
        "\n",
        "df['text'] = df['text'].apply(lambda sentence: remove_punctuation(sentence))\n"
      ],
      "metadata": {
        "id": "ANT61Q37szyG"
      },
      "execution_count": null,
      "outputs": []
    },
    {
      "cell_type": "code",
      "source": [
        "df.head(6)"
      ],
      "metadata": {
        "colab": {
          "base_uri": "https://localhost:8080/",
          "height": 237
        },
        "id": "vIqBM00tvCmP",
        "outputId": "5618736a-7028-4ce0-c5f9-693d88601990"
      },
      "execution_count": null,
      "outputs": [
        {
          "output_type": "execute_result",
          "data": {
            "text/plain": [
              "              business_id                 user_id  stars  \\\n",
              "0  _C7QiQQc47AOEv4PE3Kong  J5sT9OGM_HIEO1jnyAItgw      2   \n",
              "1  al3Ri6TEqa2rBzjHsn0T_g  oGFSMLwrVZFe4JL5b_YOfw      3   \n",
              "2  M2h3vq8WeSiQAmyJtrPvbQ  88IP8keHlnsCT4ksZNs5mw      5   \n",
              "3  Om9eoEcwPK1lp1-HEjBzeQ  whASopgK0XTo4fKA78uSaw      2   \n",
              "4  U3grYFIeu6RgAAQgdriHww  WNRmgAmR_LR-ey8bOzJ8Og      3   \n",
              "5  dNFGbezaxeBR71BdpspKqQ  qxV2hic1JnrwEU_8afWZng      4   \n",
              "\n",
              "                                                text  \n",
              "0  I had heard so much about this place but never...  \n",
              "1  I was really looking forward to Merchant becau...  \n",
              "2  I had an excellent meal here and the service w...  \n",
              "3  Very disappointing We give it a 2 star instead...  \n",
              "4  Long line way before it opensnLots of Stairs n...  \n",
              "5  This place definitely exceeds my expectation I...  "
            ],
            "text/html": [
              "\n",
              "  <div id=\"df-58f3dbfd-6567-4a69-80c6-38c6fa86a4e6\">\n",
              "    <div class=\"colab-df-container\">\n",
              "      <div>\n",
              "<style scoped>\n",
              "    .dataframe tbody tr th:only-of-type {\n",
              "        vertical-align: middle;\n",
              "    }\n",
              "\n",
              "    .dataframe tbody tr th {\n",
              "        vertical-align: top;\n",
              "    }\n",
              "\n",
              "    .dataframe thead th {\n",
              "        text-align: right;\n",
              "    }\n",
              "</style>\n",
              "<table border=\"1\" class=\"dataframe\">\n",
              "  <thead>\n",
              "    <tr style=\"text-align: right;\">\n",
              "      <th></th>\n",
              "      <th>business_id</th>\n",
              "      <th>user_id</th>\n",
              "      <th>stars</th>\n",
              "      <th>text</th>\n",
              "    </tr>\n",
              "  </thead>\n",
              "  <tbody>\n",
              "    <tr>\n",
              "      <th>0</th>\n",
              "      <td>_C7QiQQc47AOEv4PE3Kong</td>\n",
              "      <td>J5sT9OGM_HIEO1jnyAItgw</td>\n",
              "      <td>2</td>\n",
              "      <td>I had heard so much about this place but never...</td>\n",
              "    </tr>\n",
              "    <tr>\n",
              "      <th>1</th>\n",
              "      <td>al3Ri6TEqa2rBzjHsn0T_g</td>\n",
              "      <td>oGFSMLwrVZFe4JL5b_YOfw</td>\n",
              "      <td>3</td>\n",
              "      <td>I was really looking forward to Merchant becau...</td>\n",
              "    </tr>\n",
              "    <tr>\n",
              "      <th>2</th>\n",
              "      <td>M2h3vq8WeSiQAmyJtrPvbQ</td>\n",
              "      <td>88IP8keHlnsCT4ksZNs5mw</td>\n",
              "      <td>5</td>\n",
              "      <td>I had an excellent meal here and the service w...</td>\n",
              "    </tr>\n",
              "    <tr>\n",
              "      <th>3</th>\n",
              "      <td>Om9eoEcwPK1lp1-HEjBzeQ</td>\n",
              "      <td>whASopgK0XTo4fKA78uSaw</td>\n",
              "      <td>2</td>\n",
              "      <td>Very disappointing We give it a 2 star instead...</td>\n",
              "    </tr>\n",
              "    <tr>\n",
              "      <th>4</th>\n",
              "      <td>U3grYFIeu6RgAAQgdriHww</td>\n",
              "      <td>WNRmgAmR_LR-ey8bOzJ8Og</td>\n",
              "      <td>3</td>\n",
              "      <td>Long line way before it opensnLots of Stairs n...</td>\n",
              "    </tr>\n",
              "    <tr>\n",
              "      <th>5</th>\n",
              "      <td>dNFGbezaxeBR71BdpspKqQ</td>\n",
              "      <td>qxV2hic1JnrwEU_8afWZng</td>\n",
              "      <td>4</td>\n",
              "      <td>This place definitely exceeds my expectation I...</td>\n",
              "    </tr>\n",
              "  </tbody>\n",
              "</table>\n",
              "</div>\n",
              "      <button class=\"colab-df-convert\" onclick=\"convertToInteractive('df-58f3dbfd-6567-4a69-80c6-38c6fa86a4e6')\"\n",
              "              title=\"Convert this dataframe to an interactive table.\"\n",
              "              style=\"display:none;\">\n",
              "        \n",
              "  <svg xmlns=\"http://www.w3.org/2000/svg\" height=\"24px\"viewBox=\"0 0 24 24\"\n",
              "       width=\"24px\">\n",
              "    <path d=\"M0 0h24v24H0V0z\" fill=\"none\"/>\n",
              "    <path d=\"M18.56 5.44l.94 2.06.94-2.06 2.06-.94-2.06-.94-.94-2.06-.94 2.06-2.06.94zm-11 1L8.5 8.5l.94-2.06 2.06-.94-2.06-.94L8.5 2.5l-.94 2.06-2.06.94zm10 10l.94 2.06.94-2.06 2.06-.94-2.06-.94-.94-2.06-.94 2.06-2.06.94z\"/><path d=\"M17.41 7.96l-1.37-1.37c-.4-.4-.92-.59-1.43-.59-.52 0-1.04.2-1.43.59L10.3 9.45l-7.72 7.72c-.78.78-.78 2.05 0 2.83L4 21.41c.39.39.9.59 1.41.59.51 0 1.02-.2 1.41-.59l7.78-7.78 2.81-2.81c.8-.78.8-2.07 0-2.86zM5.41 20L4 18.59l7.72-7.72 1.47 1.35L5.41 20z\"/>\n",
              "  </svg>\n",
              "      </button>\n",
              "      \n",
              "  <style>\n",
              "    .colab-df-container {\n",
              "      display:flex;\n",
              "      flex-wrap:wrap;\n",
              "      gap: 12px;\n",
              "    }\n",
              "\n",
              "    .colab-df-convert {\n",
              "      background-color: #E8F0FE;\n",
              "      border: none;\n",
              "      border-radius: 50%;\n",
              "      cursor: pointer;\n",
              "      display: none;\n",
              "      fill: #1967D2;\n",
              "      height: 32px;\n",
              "      padding: 0 0 0 0;\n",
              "      width: 32px;\n",
              "    }\n",
              "\n",
              "    .colab-df-convert:hover {\n",
              "      background-color: #E2EBFA;\n",
              "      box-shadow: 0px 1px 2px rgba(60, 64, 67, 0.3), 0px 1px 3px 1px rgba(60, 64, 67, 0.15);\n",
              "      fill: #174EA6;\n",
              "    }\n",
              "\n",
              "    [theme=dark] .colab-df-convert {\n",
              "      background-color: #3B4455;\n",
              "      fill: #D2E3FC;\n",
              "    }\n",
              "\n",
              "    [theme=dark] .colab-df-convert:hover {\n",
              "      background-color: #434B5C;\n",
              "      box-shadow: 0px 1px 3px 1px rgba(0, 0, 0, 0.15);\n",
              "      filter: drop-shadow(0px 1px 2px rgba(0, 0, 0, 0.3));\n",
              "      fill: #FFFFFF;\n",
              "    }\n",
              "  </style>\n",
              "\n",
              "      <script>\n",
              "        const buttonEl =\n",
              "          document.querySelector('#df-58f3dbfd-6567-4a69-80c6-38c6fa86a4e6 button.colab-df-convert');\n",
              "        buttonEl.style.display =\n",
              "          google.colab.kernel.accessAllowed ? 'block' : 'none';\n",
              "\n",
              "        async function convertToInteractive(key) {\n",
              "          const element = document.querySelector('#df-58f3dbfd-6567-4a69-80c6-38c6fa86a4e6');\n",
              "          const dataTable =\n",
              "            await google.colab.kernel.invokeFunction('convertToInteractive',\n",
              "                                                     [key], {});\n",
              "          if (!dataTable) return;\n",
              "\n",
              "          const docLinkHtml = 'Like what you see? Visit the ' +\n",
              "            '<a target=\"_blank\" href=https://colab.research.google.com/notebooks/data_table.ipynb>data table notebook</a>'\n",
              "            + ' to learn more about interactive tables.';\n",
              "          element.innerHTML = '';\n",
              "          dataTable['output_type'] = 'display_data';\n",
              "          await google.colab.output.renderOutput(dataTable, element);\n",
              "          const docLink = document.createElement('div');\n",
              "          docLink.innerHTML = docLinkHtml;\n",
              "          element.appendChild(docLink);\n",
              "        }\n",
              "      </script>\n",
              "    </div>\n",
              "  </div>\n",
              "  "
            ]
          },
          "metadata": {},
          "execution_count": 20
        }
      ]
    },
    {
      "cell_type": "code",
      "source": [
        "df = df[df.business_id != '#NAME?']\n",
        "df = df[df.user_id != '#NAME?']\n",
        "df = df[df.business_id != '#VALUE!']\n",
        "df = df[df.user_id != '#VALUE!']"
      ],
      "metadata": {
        "id": "idALckyYwzrL"
      },
      "execution_count": null,
      "outputs": []
    },
    {
      "cell_type": "code",
      "source": [
        "df[\"text\"] = df[\"text\"].str.lower()"
      ],
      "metadata": {
        "id": "nGY_VbYO5-tG"
      },
      "execution_count": null,
      "outputs": []
    },
    {
      "cell_type": "code",
      "source": [
        "import spacy\n",
        "nlp = spacy.load('en_core_web_sm')\n",
        "# Add 'I' to the set of stop words. \n",
        "nlp.Defaults.stop_words.add('i')\n",
        "\n",
        "# Set the stop_word tag on the lexeme\n",
        "nlp.vocab['i'].is_stop = True"
      ],
      "metadata": {
        "id": "06ZYyAy25GJI"
      },
      "execution_count": null,
      "outputs": []
    },
    {
      "cell_type": "code",
      "source": [
        "# remove stopwords\n",
        "import nltk\n",
        "from nltk.corpus import stopwords\n",
        "nltk.download('stopwords')\n",
        "\n",
        "STOPWORDS = set(stopwords.words('english'))\n",
        "def remove_stopwords(sentence):\n",
        "    return \" \".join([word for word in str(sentence).split() if word not in STOPWORDS])\n",
        "\n",
        "df[\"text\"] = df[\"text\"].apply(lambda sentence: remove_stopwords(sentence))"
      ],
      "metadata": {
        "colab": {
          "base_uri": "https://localhost:8080/"
        },
        "id": "L6tK5FJaz7Cz",
        "outputId": "00906e49-d727-44e8-db30-d7d351f25bab"
      },
      "execution_count": null,
      "outputs": [
        {
          "output_type": "stream",
          "name": "stdout",
          "text": [
            "[nltk_data] Downloading package stopwords to /root/nltk_data...\n",
            "[nltk_data]   Unzipping corpora/stopwords.zip.\n"
          ]
        }
      ]
    },
    {
      "cell_type": "code",
      "source": [
        "df.head(10)"
      ],
      "metadata": {
        "colab": {
          "base_uri": "https://localhost:8080/",
          "height": 363
        },
        "id": "GgOdPI6d6f36",
        "outputId": "04fa5da5-8acb-4e84-ba93-56e3c9fb504e"
      },
      "execution_count": null,
      "outputs": [
        {
          "output_type": "execute_result",
          "data": {
            "text/plain": [
              "              business_id                 user_id  stars  \\\n",
              "0  _C7QiQQc47AOEv4PE3Kong  J5sT9OGM_HIEO1jnyAItgw      2   \n",
              "1  al3Ri6TEqa2rBzjHsn0T_g  oGFSMLwrVZFe4JL5b_YOfw      3   \n",
              "2  M2h3vq8WeSiQAmyJtrPvbQ  88IP8keHlnsCT4ksZNs5mw      5   \n",
              "3  Om9eoEcwPK1lp1-HEjBzeQ  whASopgK0XTo4fKA78uSaw      2   \n",
              "4  U3grYFIeu6RgAAQgdriHww  WNRmgAmR_LR-ey8bOzJ8Og      3   \n",
              "5  dNFGbezaxeBR71BdpspKqQ  qxV2hic1JnrwEU_8afWZng      4   \n",
              "6  kbUeqMV5NzSHVVzJURSuBA  XGQUbwATeYtqoOTZqr3jEA      5   \n",
              "7  eBadstkXafVkRxZTL1Ya6A  ZNRLwPKNzp9ckkmukXREDw      4   \n",
              "8  09izIShLukoy36bBOWfKAg  KhEVvIWMAqNPQkETvPCj3A      4   \n",
              "9  HH9x7WcNQR3cnwkHo_YL0w  vYlm2yKpeo_-oNRGoy-5dA      2   \n",
              "\n",
              "                                                text  \n",
              "0  heard much place never opportunity spare money...  \n",
              "1  really looking forward merchant reviews wasnt ...  \n",
              "2  excellent meal service amazing highly recommen...  \n",
              "3  disappointing give 2 star instead 1 tacos bad ...  \n",
              "4  long line way opensnlots stairs elevators stro...  \n",
              "5  place definitely exceeds expectation would def...  \n",
              "6  hotdog menu unique different easy understand p...  \n",
              "7  work locally go matzoh ball soup comfort food ...  \n",
              "8  love breadsticks good also cheese dip one favo...  \n",
              "9  great food awful service blonde server busser ...  "
            ],
            "text/html": [
              "\n",
              "  <div id=\"df-f264daa5-60b3-44f8-a143-210e37f971c0\">\n",
              "    <div class=\"colab-df-container\">\n",
              "      <div>\n",
              "<style scoped>\n",
              "    .dataframe tbody tr th:only-of-type {\n",
              "        vertical-align: middle;\n",
              "    }\n",
              "\n",
              "    .dataframe tbody tr th {\n",
              "        vertical-align: top;\n",
              "    }\n",
              "\n",
              "    .dataframe thead th {\n",
              "        text-align: right;\n",
              "    }\n",
              "</style>\n",
              "<table border=\"1\" class=\"dataframe\">\n",
              "  <thead>\n",
              "    <tr style=\"text-align: right;\">\n",
              "      <th></th>\n",
              "      <th>business_id</th>\n",
              "      <th>user_id</th>\n",
              "      <th>stars</th>\n",
              "      <th>text</th>\n",
              "    </tr>\n",
              "  </thead>\n",
              "  <tbody>\n",
              "    <tr>\n",
              "      <th>0</th>\n",
              "      <td>_C7QiQQc47AOEv4PE3Kong</td>\n",
              "      <td>J5sT9OGM_HIEO1jnyAItgw</td>\n",
              "      <td>2</td>\n",
              "      <td>heard much place never opportunity spare money...</td>\n",
              "    </tr>\n",
              "    <tr>\n",
              "      <th>1</th>\n",
              "      <td>al3Ri6TEqa2rBzjHsn0T_g</td>\n",
              "      <td>oGFSMLwrVZFe4JL5b_YOfw</td>\n",
              "      <td>3</td>\n",
              "      <td>really looking forward merchant reviews wasnt ...</td>\n",
              "    </tr>\n",
              "    <tr>\n",
              "      <th>2</th>\n",
              "      <td>M2h3vq8WeSiQAmyJtrPvbQ</td>\n",
              "      <td>88IP8keHlnsCT4ksZNs5mw</td>\n",
              "      <td>5</td>\n",
              "      <td>excellent meal service amazing highly recommen...</td>\n",
              "    </tr>\n",
              "    <tr>\n",
              "      <th>3</th>\n",
              "      <td>Om9eoEcwPK1lp1-HEjBzeQ</td>\n",
              "      <td>whASopgK0XTo4fKA78uSaw</td>\n",
              "      <td>2</td>\n",
              "      <td>disappointing give 2 star instead 1 tacos bad ...</td>\n",
              "    </tr>\n",
              "    <tr>\n",
              "      <th>4</th>\n",
              "      <td>U3grYFIeu6RgAAQgdriHww</td>\n",
              "      <td>WNRmgAmR_LR-ey8bOzJ8Og</td>\n",
              "      <td>3</td>\n",
              "      <td>long line way opensnlots stairs elevators stro...</td>\n",
              "    </tr>\n",
              "    <tr>\n",
              "      <th>5</th>\n",
              "      <td>dNFGbezaxeBR71BdpspKqQ</td>\n",
              "      <td>qxV2hic1JnrwEU_8afWZng</td>\n",
              "      <td>4</td>\n",
              "      <td>place definitely exceeds expectation would def...</td>\n",
              "    </tr>\n",
              "    <tr>\n",
              "      <th>6</th>\n",
              "      <td>kbUeqMV5NzSHVVzJURSuBA</td>\n",
              "      <td>XGQUbwATeYtqoOTZqr3jEA</td>\n",
              "      <td>5</td>\n",
              "      <td>hotdog menu unique different easy understand p...</td>\n",
              "    </tr>\n",
              "    <tr>\n",
              "      <th>7</th>\n",
              "      <td>eBadstkXafVkRxZTL1Ya6A</td>\n",
              "      <td>ZNRLwPKNzp9ckkmukXREDw</td>\n",
              "      <td>4</td>\n",
              "      <td>work locally go matzoh ball soup comfort food ...</td>\n",
              "    </tr>\n",
              "    <tr>\n",
              "      <th>8</th>\n",
              "      <td>09izIShLukoy36bBOWfKAg</td>\n",
              "      <td>KhEVvIWMAqNPQkETvPCj3A</td>\n",
              "      <td>4</td>\n",
              "      <td>love breadsticks good also cheese dip one favo...</td>\n",
              "    </tr>\n",
              "    <tr>\n",
              "      <th>9</th>\n",
              "      <td>HH9x7WcNQR3cnwkHo_YL0w</td>\n",
              "      <td>vYlm2yKpeo_-oNRGoy-5dA</td>\n",
              "      <td>2</td>\n",
              "      <td>great food awful service blonde server busser ...</td>\n",
              "    </tr>\n",
              "  </tbody>\n",
              "</table>\n",
              "</div>\n",
              "      <button class=\"colab-df-convert\" onclick=\"convertToInteractive('df-f264daa5-60b3-44f8-a143-210e37f971c0')\"\n",
              "              title=\"Convert this dataframe to an interactive table.\"\n",
              "              style=\"display:none;\">\n",
              "        \n",
              "  <svg xmlns=\"http://www.w3.org/2000/svg\" height=\"24px\"viewBox=\"0 0 24 24\"\n",
              "       width=\"24px\">\n",
              "    <path d=\"M0 0h24v24H0V0z\" fill=\"none\"/>\n",
              "    <path d=\"M18.56 5.44l.94 2.06.94-2.06 2.06-.94-2.06-.94-.94-2.06-.94 2.06-2.06.94zm-11 1L8.5 8.5l.94-2.06 2.06-.94-2.06-.94L8.5 2.5l-.94 2.06-2.06.94zm10 10l.94 2.06.94-2.06 2.06-.94-2.06-.94-.94-2.06-.94 2.06-2.06.94z\"/><path d=\"M17.41 7.96l-1.37-1.37c-.4-.4-.92-.59-1.43-.59-.52 0-1.04.2-1.43.59L10.3 9.45l-7.72 7.72c-.78.78-.78 2.05 0 2.83L4 21.41c.39.39.9.59 1.41.59.51 0 1.02-.2 1.41-.59l7.78-7.78 2.81-2.81c.8-.78.8-2.07 0-2.86zM5.41 20L4 18.59l7.72-7.72 1.47 1.35L5.41 20z\"/>\n",
              "  </svg>\n",
              "      </button>\n",
              "      \n",
              "  <style>\n",
              "    .colab-df-container {\n",
              "      display:flex;\n",
              "      flex-wrap:wrap;\n",
              "      gap: 12px;\n",
              "    }\n",
              "\n",
              "    .colab-df-convert {\n",
              "      background-color: #E8F0FE;\n",
              "      border: none;\n",
              "      border-radius: 50%;\n",
              "      cursor: pointer;\n",
              "      display: none;\n",
              "      fill: #1967D2;\n",
              "      height: 32px;\n",
              "      padding: 0 0 0 0;\n",
              "      width: 32px;\n",
              "    }\n",
              "\n",
              "    .colab-df-convert:hover {\n",
              "      background-color: #E2EBFA;\n",
              "      box-shadow: 0px 1px 2px rgba(60, 64, 67, 0.3), 0px 1px 3px 1px rgba(60, 64, 67, 0.15);\n",
              "      fill: #174EA6;\n",
              "    }\n",
              "\n",
              "    [theme=dark] .colab-df-convert {\n",
              "      background-color: #3B4455;\n",
              "      fill: #D2E3FC;\n",
              "    }\n",
              "\n",
              "    [theme=dark] .colab-df-convert:hover {\n",
              "      background-color: #434B5C;\n",
              "      box-shadow: 0px 1px 3px 1px rgba(0, 0, 0, 0.15);\n",
              "      filter: drop-shadow(0px 1px 2px rgba(0, 0, 0, 0.3));\n",
              "      fill: #FFFFFF;\n",
              "    }\n",
              "  </style>\n",
              "\n",
              "      <script>\n",
              "        const buttonEl =\n",
              "          document.querySelector('#df-f264daa5-60b3-44f8-a143-210e37f971c0 button.colab-df-convert');\n",
              "        buttonEl.style.display =\n",
              "          google.colab.kernel.accessAllowed ? 'block' : 'none';\n",
              "\n",
              "        async function convertToInteractive(key) {\n",
              "          const element = document.querySelector('#df-f264daa5-60b3-44f8-a143-210e37f971c0');\n",
              "          const dataTable =\n",
              "            await google.colab.kernel.invokeFunction('convertToInteractive',\n",
              "                                                     [key], {});\n",
              "          if (!dataTable) return;\n",
              "\n",
              "          const docLinkHtml = 'Like what you see? Visit the ' +\n",
              "            '<a target=\"_blank\" href=https://colab.research.google.com/notebooks/data_table.ipynb>data table notebook</a>'\n",
              "            + ' to learn more about interactive tables.';\n",
              "          element.innerHTML = '';\n",
              "          dataTable['output_type'] = 'display_data';\n",
              "          await google.colab.output.renderOutput(dataTable, element);\n",
              "          const docLink = document.createElement('div');\n",
              "          docLink.innerHTML = docLinkHtml;\n",
              "          element.appendChild(docLink);\n",
              "        }\n",
              "      </script>\n",
              "    </div>\n",
              "  </div>\n",
              "  "
            ]
          },
          "metadata": {},
          "execution_count": 25
        }
      ]
    },
    {
      "cell_type": "markdown",
      "source": [
        "For each user, combine all the reviews to form a single paragraph, after we combine it all then we apply the TFIDF Vectorizer to extract the features from the text. The similar approach for each restaurant and we need to give the max_feature to match the dimensions of the matrixes."
      ],
      "metadata": {
        "id": "gTT8NumEq6Cc"
      }
    },
    {
      "cell_type": "code",
      "source": [
        "# Group the user id with their reviews\n",
        "user_review = df[['user_id','text']]\n",
        "business_review = df[['business_id', 'text']]\n"
      ],
      "metadata": {
        "id": "KbwHaOBCrYPh"
      },
      "execution_count": null,
      "outputs": []
    },
    {
      "cell_type": "code",
      "source": [
        "user_review = user_review.groupby('user_id').agg({'text':' '.join})\n",
        "business_review = business_review.groupby('business_id').agg({'text':' '.join})"
      ],
      "metadata": {
        "id": "Os40cg73zVfI"
      },
      "execution_count": null,
      "outputs": []
    },
    {
      "cell_type": "code",
      "source": [
        "user_review.head()"
      ],
      "metadata": {
        "colab": {
          "base_uri": "https://localhost:8080/",
          "height": 237
        },
        "id": "deezojM_1qLX",
        "outputId": "5e5f2b43-6c69-4786-8f52-9eb4937aeddf"
      },
      "execution_count": null,
      "outputs": [
        {
          "output_type": "execute_result",
          "data": {
            "text/plain": [
              "                                                                     text\n",
              "user_id                                                                  \n",
              "-0AyZxS5C--WySnbW_Q8yQ  lot choices menu including list maxines best m...\n",
              "-0KosxqqMBYNfJ7VuvBYDQ  try osso buco bacco deliciously rich melt mout...\n",
              "-0LGLx8LP5dq3zcGO4Bebw  delicious meal great service many things menu ...\n",
              "-0YrXUvXz8112yHap35V2g  wordoutstanding huge fan place since bought gr...\n",
              "-0lknh8CLIp8XFYwnU59Ag  chriss great menu lots choices especially brea..."
            ],
            "text/html": [
              "\n",
              "  <div id=\"df-b058ce2f-33ef-4310-a119-c4cf6e383ab6\">\n",
              "    <div class=\"colab-df-container\">\n",
              "      <div>\n",
              "<style scoped>\n",
              "    .dataframe tbody tr th:only-of-type {\n",
              "        vertical-align: middle;\n",
              "    }\n",
              "\n",
              "    .dataframe tbody tr th {\n",
              "        vertical-align: top;\n",
              "    }\n",
              "\n",
              "    .dataframe thead th {\n",
              "        text-align: right;\n",
              "    }\n",
              "</style>\n",
              "<table border=\"1\" class=\"dataframe\">\n",
              "  <thead>\n",
              "    <tr style=\"text-align: right;\">\n",
              "      <th></th>\n",
              "      <th>text</th>\n",
              "    </tr>\n",
              "    <tr>\n",
              "      <th>user_id</th>\n",
              "      <th></th>\n",
              "    </tr>\n",
              "  </thead>\n",
              "  <tbody>\n",
              "    <tr>\n",
              "      <th>-0AyZxS5C--WySnbW_Q8yQ</th>\n",
              "      <td>lot choices menu including list maxines best m...</td>\n",
              "    </tr>\n",
              "    <tr>\n",
              "      <th>-0KosxqqMBYNfJ7VuvBYDQ</th>\n",
              "      <td>try osso buco bacco deliciously rich melt mout...</td>\n",
              "    </tr>\n",
              "    <tr>\n",
              "      <th>-0LGLx8LP5dq3zcGO4Bebw</th>\n",
              "      <td>delicious meal great service many things menu ...</td>\n",
              "    </tr>\n",
              "    <tr>\n",
              "      <th>-0YrXUvXz8112yHap35V2g</th>\n",
              "      <td>wordoutstanding huge fan place since bought gr...</td>\n",
              "    </tr>\n",
              "    <tr>\n",
              "      <th>-0lknh8CLIp8XFYwnU59Ag</th>\n",
              "      <td>chriss great menu lots choices especially brea...</td>\n",
              "    </tr>\n",
              "  </tbody>\n",
              "</table>\n",
              "</div>\n",
              "      <button class=\"colab-df-convert\" onclick=\"convertToInteractive('df-b058ce2f-33ef-4310-a119-c4cf6e383ab6')\"\n",
              "              title=\"Convert this dataframe to an interactive table.\"\n",
              "              style=\"display:none;\">\n",
              "        \n",
              "  <svg xmlns=\"http://www.w3.org/2000/svg\" height=\"24px\"viewBox=\"0 0 24 24\"\n",
              "       width=\"24px\">\n",
              "    <path d=\"M0 0h24v24H0V0z\" fill=\"none\"/>\n",
              "    <path d=\"M18.56 5.44l.94 2.06.94-2.06 2.06-.94-2.06-.94-.94-2.06-.94 2.06-2.06.94zm-11 1L8.5 8.5l.94-2.06 2.06-.94-2.06-.94L8.5 2.5l-.94 2.06-2.06.94zm10 10l.94 2.06.94-2.06 2.06-.94-2.06-.94-.94-2.06-.94 2.06-2.06.94z\"/><path d=\"M17.41 7.96l-1.37-1.37c-.4-.4-.92-.59-1.43-.59-.52 0-1.04.2-1.43.59L10.3 9.45l-7.72 7.72c-.78.78-.78 2.05 0 2.83L4 21.41c.39.39.9.59 1.41.59.51 0 1.02-.2 1.41-.59l7.78-7.78 2.81-2.81c.8-.78.8-2.07 0-2.86zM5.41 20L4 18.59l7.72-7.72 1.47 1.35L5.41 20z\"/>\n",
              "  </svg>\n",
              "      </button>\n",
              "      \n",
              "  <style>\n",
              "    .colab-df-container {\n",
              "      display:flex;\n",
              "      flex-wrap:wrap;\n",
              "      gap: 12px;\n",
              "    }\n",
              "\n",
              "    .colab-df-convert {\n",
              "      background-color: #E8F0FE;\n",
              "      border: none;\n",
              "      border-radius: 50%;\n",
              "      cursor: pointer;\n",
              "      display: none;\n",
              "      fill: #1967D2;\n",
              "      height: 32px;\n",
              "      padding: 0 0 0 0;\n",
              "      width: 32px;\n",
              "    }\n",
              "\n",
              "    .colab-df-convert:hover {\n",
              "      background-color: #E2EBFA;\n",
              "      box-shadow: 0px 1px 2px rgba(60, 64, 67, 0.3), 0px 1px 3px 1px rgba(60, 64, 67, 0.15);\n",
              "      fill: #174EA6;\n",
              "    }\n",
              "\n",
              "    [theme=dark] .colab-df-convert {\n",
              "      background-color: #3B4455;\n",
              "      fill: #D2E3FC;\n",
              "    }\n",
              "\n",
              "    [theme=dark] .colab-df-convert:hover {\n",
              "      background-color: #434B5C;\n",
              "      box-shadow: 0px 1px 3px 1px rgba(0, 0, 0, 0.15);\n",
              "      filter: drop-shadow(0px 1px 2px rgba(0, 0, 0, 0.3));\n",
              "      fill: #FFFFFF;\n",
              "    }\n",
              "  </style>\n",
              "\n",
              "      <script>\n",
              "        const buttonEl =\n",
              "          document.querySelector('#df-b058ce2f-33ef-4310-a119-c4cf6e383ab6 button.colab-df-convert');\n",
              "        buttonEl.style.display =\n",
              "          google.colab.kernel.accessAllowed ? 'block' : 'none';\n",
              "\n",
              "        async function convertToInteractive(key) {\n",
              "          const element = document.querySelector('#df-b058ce2f-33ef-4310-a119-c4cf6e383ab6');\n",
              "          const dataTable =\n",
              "            await google.colab.kernel.invokeFunction('convertToInteractive',\n",
              "                                                     [key], {});\n",
              "          if (!dataTable) return;\n",
              "\n",
              "          const docLinkHtml = 'Like what you see? Visit the ' +\n",
              "            '<a target=\"_blank\" href=https://colab.research.google.com/notebooks/data_table.ipynb>data table notebook</a>'\n",
              "            + ' to learn more about interactive tables.';\n",
              "          element.innerHTML = '';\n",
              "          dataTable['output_type'] = 'display_data';\n",
              "          await google.colab.output.renderOutput(dataTable, element);\n",
              "          const docLink = document.createElement('div');\n",
              "          docLink.innerHTML = docLinkHtml;\n",
              "          element.appendChild(docLink);\n",
              "        }\n",
              "      </script>\n",
              "    </div>\n",
              "  </div>\n",
              "  "
            ]
          },
          "metadata": {},
          "execution_count": 28
        }
      ]
    },
    {
      "cell_type": "code",
      "source": [
        "user_review.loc[['ZwVz20be-hOZnyAbevyMyQ']]['text']"
      ],
      "metadata": {
        "colab": {
          "base_uri": "https://localhost:8080/"
        },
        "id": "jmmTLhImzcD5",
        "outputId": "17dc49dd-ca44-46ba-c3ed-e6b1022d364d"
      },
      "execution_count": null,
      "outputs": [
        {
          "output_type": "execute_result",
          "data": {
            "text/plain": [
              "user_id\n",
              "ZwVz20be-hOZnyAbevyMyQ    food usually good hobbit menu back fun items t...\n",
              "Name: text, dtype: object"
            ]
          },
          "metadata": {},
          "execution_count": 29
        }
      ]
    },
    {
      "cell_type": "markdown",
      "source": [
        "### TFIDF Vectorizer \n",
        "To extract features from the text.\n",
        "\n",
        "With the help of [nltk.tokenize.WordPunctTokenizer()()](https://https://www.geeksforgeeks.org/python-nltk-tokenize-wordpuncttokenizer/)method, we are able to extract the tokens from string of words or sentences in the form of Alphabetic and Non-Alphabetic character.\n"
      ],
      "metadata": {
        "id": "YwFbJXKOvogF"
      }
    },
    {
      "cell_type": "code",
      "source": [
        "#User ID vectorizer\n",
        "user_vectorizer = TfidfVectorizer(tokenizer = WordPunctTokenizer().tokenize, max_features=5000) # max_features = Limit the amount of features (vocabulary) that the vectorizer will learn\n",
        "user_vectors = user_vectorizer.fit_transform(user_review['text'])\n",
        "\n",
        "#Business ID vectorizer\n",
        "business_vectorizer = TfidfVectorizer(tokenizer = WordPunctTokenizer().tokenize, max_features=5000)\n",
        "business_vectors = business_vectorizer.fit_transform(business_review['text'])"
      ],
      "metadata": {
        "id": "CtvVV_M0vzI1"
      },
      "execution_count": null,
      "outputs": []
    },
    {
      "cell_type": "code",
      "source": [
        "df['stars'] = df['stars'].astype(int)"
      ],
      "metadata": {
        "id": "2GkZkCXCZhqK"
      },
      "execution_count": null,
      "outputs": []
    },
    {
      "cell_type": "code",
      "source": [
        "print(df.info())"
      ],
      "metadata": {
        "colab": {
          "base_uri": "https://localhost:8080/"
        },
        "id": "pjPUhMMjalCt",
        "outputId": "5d61433c-6fdb-4726-e894-f1fc2a320363"
      },
      "execution_count": null,
      "outputs": [
        {
          "output_type": "stream",
          "name": "stdout",
          "text": [
            "<class 'pandas.core.frame.DataFrame'>\n",
            "Int64Index: 29225 entries, 0 to 29999\n",
            "Data columns (total 4 columns):\n",
            " #   Column       Non-Null Count  Dtype \n",
            "---  ------       --------------  ----- \n",
            " 0   business_id  29225 non-null  object\n",
            " 1   user_id      29225 non-null  object\n",
            " 2   stars        29225 non-null  int64 \n",
            " 3   text         29225 non-null  object\n",
            "dtypes: int64(1), object(3)\n",
            "memory usage: 1.1+ MB\n",
            "None\n"
          ]
        }
      ]
    },
    {
      "cell_type": "code",
      "source": [
        "print(user_vectors.shape)\n",
        "print(business_vectors.shape)"
      ],
      "metadata": {
        "colab": {
          "base_uri": "https://localhost:8080/"
        },
        "id": "COO_DSvbc_jE",
        "outputId": "fbde0046-92fb-4b43-cb26-e3d2501836a9"
      },
      "execution_count": null,
      "outputs": [
        {
          "output_type": "stream",
          "name": "stdout",
          "text": [
            "(26425, 5000)\n",
            "(6466, 5000)\n"
          ]
        }
      ]
    },
    {
      "cell_type": "code",
      "source": [
        "df"
      ],
      "metadata": {
        "colab": {
          "base_uri": "https://localhost:8080/",
          "height": 424
        },
        "id": "7kn7n1mIsyXG",
        "outputId": "0429aad3-422f-4f6b-812e-ff759d3b4c7a"
      },
      "execution_count": null,
      "outputs": [
        {
          "output_type": "execute_result",
          "data": {
            "text/plain": [
              "                  business_id                 user_id  stars  \\\n",
              "0      _C7QiQQc47AOEv4PE3Kong  J5sT9OGM_HIEO1jnyAItgw      2   \n",
              "1      al3Ri6TEqa2rBzjHsn0T_g  oGFSMLwrVZFe4JL5b_YOfw      3   \n",
              "2      M2h3vq8WeSiQAmyJtrPvbQ  88IP8keHlnsCT4ksZNs5mw      5   \n",
              "3      Om9eoEcwPK1lp1-HEjBzeQ  whASopgK0XTo4fKA78uSaw      2   \n",
              "4      U3grYFIeu6RgAAQgdriHww  WNRmgAmR_LR-ey8bOzJ8Og      3   \n",
              "...                       ...                     ...    ...   \n",
              "29995  rSYyGcZZziJLsqKl5hMcDw  tYzp_iXqSZes7SgfhUDPHg      4   \n",
              "29996  61NCACGHsNPhbi2DgJAWmg  zNz3l0bSJEAjS17j-2wA8A      4   \n",
              "29997  Z6f5SQmGTckZ_KkKbib2VQ  rqHmh0RpDqW4rHkd5JajxQ      1   \n",
              "29998  HJduAXxpms1kGJlpx_udoA  lbmyKWjxRFpWOIiaEkWvTw      4   \n",
              "29999  hkirr3WzSTx2d9cdP_NKSQ  W27Tu_ydNG9IAg-OtJBc3w      5   \n",
              "\n",
              "                                                    text  \n",
              "0      heard much place never opportunity spare money...  \n",
              "1      really looking forward merchant reviews wasnt ...  \n",
              "2      excellent meal service amazing highly recommen...  \n",
              "3      disappointing give 2 star instead 1 tacos bad ...  \n",
              "4      long line way opensnlots stairs elevators stro...  \n",
              "...                                                  ...  \n",
              "29995  stayed north tower everyone customer service m...  \n",
              "29996  love place clean cheerful nice staff plenty ch...  \n",
              "29997  looking buffet area gps found place closed the...  \n",
              "29998  actually nice park considering location entran...  \n",
              "29999  need fluff review place legit delicious fastnt...  \n",
              "\n",
              "[29225 rows x 4 columns]"
            ],
            "text/html": [
              "\n",
              "  <div id=\"df-ff46f567-614c-4745-890e-3d4ba448cb51\">\n",
              "    <div class=\"colab-df-container\">\n",
              "      <div>\n",
              "<style scoped>\n",
              "    .dataframe tbody tr th:only-of-type {\n",
              "        vertical-align: middle;\n",
              "    }\n",
              "\n",
              "    .dataframe tbody tr th {\n",
              "        vertical-align: top;\n",
              "    }\n",
              "\n",
              "    .dataframe thead th {\n",
              "        text-align: right;\n",
              "    }\n",
              "</style>\n",
              "<table border=\"1\" class=\"dataframe\">\n",
              "  <thead>\n",
              "    <tr style=\"text-align: right;\">\n",
              "      <th></th>\n",
              "      <th>business_id</th>\n",
              "      <th>user_id</th>\n",
              "      <th>stars</th>\n",
              "      <th>text</th>\n",
              "    </tr>\n",
              "  </thead>\n",
              "  <tbody>\n",
              "    <tr>\n",
              "      <th>0</th>\n",
              "      <td>_C7QiQQc47AOEv4PE3Kong</td>\n",
              "      <td>J5sT9OGM_HIEO1jnyAItgw</td>\n",
              "      <td>2</td>\n",
              "      <td>heard much place never opportunity spare money...</td>\n",
              "    </tr>\n",
              "    <tr>\n",
              "      <th>1</th>\n",
              "      <td>al3Ri6TEqa2rBzjHsn0T_g</td>\n",
              "      <td>oGFSMLwrVZFe4JL5b_YOfw</td>\n",
              "      <td>3</td>\n",
              "      <td>really looking forward merchant reviews wasnt ...</td>\n",
              "    </tr>\n",
              "    <tr>\n",
              "      <th>2</th>\n",
              "      <td>M2h3vq8WeSiQAmyJtrPvbQ</td>\n",
              "      <td>88IP8keHlnsCT4ksZNs5mw</td>\n",
              "      <td>5</td>\n",
              "      <td>excellent meal service amazing highly recommen...</td>\n",
              "    </tr>\n",
              "    <tr>\n",
              "      <th>3</th>\n",
              "      <td>Om9eoEcwPK1lp1-HEjBzeQ</td>\n",
              "      <td>whASopgK0XTo4fKA78uSaw</td>\n",
              "      <td>2</td>\n",
              "      <td>disappointing give 2 star instead 1 tacos bad ...</td>\n",
              "    </tr>\n",
              "    <tr>\n",
              "      <th>4</th>\n",
              "      <td>U3grYFIeu6RgAAQgdriHww</td>\n",
              "      <td>WNRmgAmR_LR-ey8bOzJ8Og</td>\n",
              "      <td>3</td>\n",
              "      <td>long line way opensnlots stairs elevators stro...</td>\n",
              "    </tr>\n",
              "    <tr>\n",
              "      <th>...</th>\n",
              "      <td>...</td>\n",
              "      <td>...</td>\n",
              "      <td>...</td>\n",
              "      <td>...</td>\n",
              "    </tr>\n",
              "    <tr>\n",
              "      <th>29995</th>\n",
              "      <td>rSYyGcZZziJLsqKl5hMcDw</td>\n",
              "      <td>tYzp_iXqSZes7SgfhUDPHg</td>\n",
              "      <td>4</td>\n",
              "      <td>stayed north tower everyone customer service m...</td>\n",
              "    </tr>\n",
              "    <tr>\n",
              "      <th>29996</th>\n",
              "      <td>61NCACGHsNPhbi2DgJAWmg</td>\n",
              "      <td>zNz3l0bSJEAjS17j-2wA8A</td>\n",
              "      <td>4</td>\n",
              "      <td>love place clean cheerful nice staff plenty ch...</td>\n",
              "    </tr>\n",
              "    <tr>\n",
              "      <th>29997</th>\n",
              "      <td>Z6f5SQmGTckZ_KkKbib2VQ</td>\n",
              "      <td>rqHmh0RpDqW4rHkd5JajxQ</td>\n",
              "      <td>1</td>\n",
              "      <td>looking buffet area gps found place closed the...</td>\n",
              "    </tr>\n",
              "    <tr>\n",
              "      <th>29998</th>\n",
              "      <td>HJduAXxpms1kGJlpx_udoA</td>\n",
              "      <td>lbmyKWjxRFpWOIiaEkWvTw</td>\n",
              "      <td>4</td>\n",
              "      <td>actually nice park considering location entran...</td>\n",
              "    </tr>\n",
              "    <tr>\n",
              "      <th>29999</th>\n",
              "      <td>hkirr3WzSTx2d9cdP_NKSQ</td>\n",
              "      <td>W27Tu_ydNG9IAg-OtJBc3w</td>\n",
              "      <td>5</td>\n",
              "      <td>need fluff review place legit delicious fastnt...</td>\n",
              "    </tr>\n",
              "  </tbody>\n",
              "</table>\n",
              "<p>29225 rows × 4 columns</p>\n",
              "</div>\n",
              "      <button class=\"colab-df-convert\" onclick=\"convertToInteractive('df-ff46f567-614c-4745-890e-3d4ba448cb51')\"\n",
              "              title=\"Convert this dataframe to an interactive table.\"\n",
              "              style=\"display:none;\">\n",
              "        \n",
              "  <svg xmlns=\"http://www.w3.org/2000/svg\" height=\"24px\"viewBox=\"0 0 24 24\"\n",
              "       width=\"24px\">\n",
              "    <path d=\"M0 0h24v24H0V0z\" fill=\"none\"/>\n",
              "    <path d=\"M18.56 5.44l.94 2.06.94-2.06 2.06-.94-2.06-.94-.94-2.06-.94 2.06-2.06.94zm-11 1L8.5 8.5l.94-2.06 2.06-.94-2.06-.94L8.5 2.5l-.94 2.06-2.06.94zm10 10l.94 2.06.94-2.06 2.06-.94-2.06-.94-.94-2.06-.94 2.06-2.06.94z\"/><path d=\"M17.41 7.96l-1.37-1.37c-.4-.4-.92-.59-1.43-.59-.52 0-1.04.2-1.43.59L10.3 9.45l-7.72 7.72c-.78.78-.78 2.05 0 2.83L4 21.41c.39.39.9.59 1.41.59.51 0 1.02-.2 1.41-.59l7.78-7.78 2.81-2.81c.8-.78.8-2.07 0-2.86zM5.41 20L4 18.59l7.72-7.72 1.47 1.35L5.41 20z\"/>\n",
              "  </svg>\n",
              "      </button>\n",
              "      \n",
              "  <style>\n",
              "    .colab-df-container {\n",
              "      display:flex;\n",
              "      flex-wrap:wrap;\n",
              "      gap: 12px;\n",
              "    }\n",
              "\n",
              "    .colab-df-convert {\n",
              "      background-color: #E8F0FE;\n",
              "      border: none;\n",
              "      border-radius: 50%;\n",
              "      cursor: pointer;\n",
              "      display: none;\n",
              "      fill: #1967D2;\n",
              "      height: 32px;\n",
              "      padding: 0 0 0 0;\n",
              "      width: 32px;\n",
              "    }\n",
              "\n",
              "    .colab-df-convert:hover {\n",
              "      background-color: #E2EBFA;\n",
              "      box-shadow: 0px 1px 2px rgba(60, 64, 67, 0.3), 0px 1px 3px 1px rgba(60, 64, 67, 0.15);\n",
              "      fill: #174EA6;\n",
              "    }\n",
              "\n",
              "    [theme=dark] .colab-df-convert {\n",
              "      background-color: #3B4455;\n",
              "      fill: #D2E3FC;\n",
              "    }\n",
              "\n",
              "    [theme=dark] .colab-df-convert:hover {\n",
              "      background-color: #434B5C;\n",
              "      box-shadow: 0px 1px 3px 1px rgba(0, 0, 0, 0.15);\n",
              "      filter: drop-shadow(0px 1px 2px rgba(0, 0, 0, 0.3));\n",
              "      fill: #FFFFFF;\n",
              "    }\n",
              "  </style>\n",
              "\n",
              "      <script>\n",
              "        const buttonEl =\n",
              "          document.querySelector('#df-ff46f567-614c-4745-890e-3d4ba448cb51 button.colab-df-convert');\n",
              "        buttonEl.style.display =\n",
              "          google.colab.kernel.accessAllowed ? 'block' : 'none';\n",
              "\n",
              "        async function convertToInteractive(key) {\n",
              "          const element = document.querySelector('#df-ff46f567-614c-4745-890e-3d4ba448cb51');\n",
              "          const dataTable =\n",
              "            await google.colab.kernel.invokeFunction('convertToInteractive',\n",
              "                                                     [key], {});\n",
              "          if (!dataTable) return;\n",
              "\n",
              "          const docLinkHtml = 'Like what you see? Visit the ' +\n",
              "            '<a target=\"_blank\" href=https://colab.research.google.com/notebooks/data_table.ipynb>data table notebook</a>'\n",
              "            + ' to learn more about interactive tables.';\n",
              "          element.innerHTML = '';\n",
              "          dataTable['output_type'] = 'display_data';\n",
              "          await google.colab.output.renderOutput(dataTable, element);\n",
              "          const docLink = document.createElement('div');\n",
              "          docLink.innerHTML = docLinkHtml;\n",
              "          element.appendChild(docLink);\n",
              "        }\n",
              "      </script>\n",
              "    </div>\n",
              "  </div>\n",
              "  "
            ]
          },
          "metadata": {},
          "execution_count": 34
        }
      ]
    },
    {
      "cell_type": "code",
      "source": [
        "P = pd.DataFrame(user_vectors.toarray(), index=user_review.index, columns=user_vectorizer.get_feature_names())\n",
        "Q = pd.DataFrame(business_vectors.toarray(), index=business_review.index, columns=business_vectorizer.get_feature_names())"
      ],
      "metadata": {
        "colab": {
          "base_uri": "https://localhost:8080/"
        },
        "id": "C99ZoQSxiwUp",
        "outputId": "f8a8a611-0b0e-4c0a-815a-facd21619214"
      },
      "execution_count": null,
      "outputs": [
        {
          "output_type": "stream",
          "name": "stderr",
          "text": [
            "/usr/local/lib/python3.7/dist-packages/sklearn/utils/deprecation.py:87: FutureWarning: Function get_feature_names is deprecated; get_feature_names is deprecated in 1.0 and will be removed in 1.2. Please use get_feature_names_out instead.\n",
            "  warnings.warn(msg, category=FutureWarning)\n"
          ]
        }
      ]
    },
    {
      "cell_type": "code",
      "source": [
        "# P = P.rename(index=df['user_id'])\n",
        "# Q = Q.rename(index=df['business_id'])"
      ],
      "metadata": {
        "id": "Uz1AKlimrxyx"
      },
      "execution_count": null,
      "outputs": []
    },
    {
      "cell_type": "code",
      "source": [
        "# Create a matrix of users and business with the ratings\n",
        "userid_rating_matrix = pd.pivot_table(df, values='stars', index=['user_id'], columns=['business_id'])"
      ],
      "metadata": {
        "id": "XZnVxwDZ_oxI"
      },
      "execution_count": null,
      "outputs": []
    },
    {
      "cell_type": "code",
      "source": [
        "userid_rating_matrix"
      ],
      "metadata": {
        "colab": {
          "base_uri": "https://localhost:8080/",
          "height": 536
        },
        "id": "sTPCBx2oB1_c",
        "outputId": "7f24bfc4-2524-4d1a-e8e4-131ac2a2a60f"
      },
      "execution_count": null,
      "outputs": [
        {
          "output_type": "execute_result",
          "data": {
            "text/plain": [
              "business_id             -0E708CsutslDLUuuzWGYQ  -16EH6b1ho0xQqP0Bzm9Mg  \\\n",
              "user_id                                                                  \n",
              "-0AyZxS5C--WySnbW_Q8yQ                     NaN                     NaN   \n",
              "-0KosxqqMBYNfJ7VuvBYDQ                     NaN                     NaN   \n",
              "-0LGLx8LP5dq3zcGO4Bebw                     NaN                     NaN   \n",
              "-0YrXUvXz8112yHap35V2g                     NaN                     NaN   \n",
              "-0lknh8CLIp8XFYwnU59Ag                     NaN                     NaN   \n",
              "...                                        ...                     ...   \n",
              "zz5IHe3r6TIpXBGjQy8m7A                     NaN                     NaN   \n",
              "zz9YDSRIvJQkhMbs0JA2cg                     NaN                     NaN   \n",
              "zzSSEPbr4hkvPBOq1ZM9Yw                     NaN                     NaN   \n",
              "zzZTbKRe1B3VwIajVhIOaw                     NaN                     NaN   \n",
              "zztkCqqgR6VntYbqio4UTQ                     NaN                     NaN   \n",
              "\n",
              "business_id             -1PG6k_iezwJmRZLB7f6og  -2KK9cqa26KZ1xrfOm9A7w  \\\n",
              "user_id                                                                  \n",
              "-0AyZxS5C--WySnbW_Q8yQ                     NaN                     NaN   \n",
              "-0KosxqqMBYNfJ7VuvBYDQ                     NaN                     NaN   \n",
              "-0LGLx8LP5dq3zcGO4Bebw                     NaN                     NaN   \n",
              "-0YrXUvXz8112yHap35V2g                     NaN                     NaN   \n",
              "-0lknh8CLIp8XFYwnU59Ag                     NaN                     NaN   \n",
              "...                                        ...                     ...   \n",
              "zz5IHe3r6TIpXBGjQy8m7A                     NaN                     NaN   \n",
              "zz9YDSRIvJQkhMbs0JA2cg                     NaN                     NaN   \n",
              "zzSSEPbr4hkvPBOq1ZM9Yw                     NaN                     NaN   \n",
              "zzZTbKRe1B3VwIajVhIOaw                     NaN                     NaN   \n",
              "zztkCqqgR6VntYbqio4UTQ                     NaN                     NaN   \n",
              "\n",
              "business_id             -2VYztMXVorktljCdQNPmQ  -2aGyAUenQEZWAtNUnMHzg  \\\n",
              "user_id                                                                  \n",
              "-0AyZxS5C--WySnbW_Q8yQ                     NaN                     NaN   \n",
              "-0KosxqqMBYNfJ7VuvBYDQ                     NaN                     NaN   \n",
              "-0LGLx8LP5dq3zcGO4Bebw                     NaN                     NaN   \n",
              "-0YrXUvXz8112yHap35V2g                     NaN                     NaN   \n",
              "-0lknh8CLIp8XFYwnU59Ag                     NaN                     NaN   \n",
              "...                                        ...                     ...   \n",
              "zz5IHe3r6TIpXBGjQy8m7A                     NaN                     NaN   \n",
              "zz9YDSRIvJQkhMbs0JA2cg                     NaN                     NaN   \n",
              "zzSSEPbr4hkvPBOq1ZM9Yw                     NaN                     NaN   \n",
              "zzZTbKRe1B3VwIajVhIOaw                     NaN                     NaN   \n",
              "zztkCqqgR6VntYbqio4UTQ                     NaN                     NaN   \n",
              "\n",
              "business_id             -3LGekWQ5iHMQO1a9_DDbw  -7KAng29RoHr87mvOFbK9w  \\\n",
              "user_id                                                                  \n",
              "-0AyZxS5C--WySnbW_Q8yQ                     NaN                     NaN   \n",
              "-0KosxqqMBYNfJ7VuvBYDQ                     NaN                     NaN   \n",
              "-0LGLx8LP5dq3zcGO4Bebw                     NaN                     NaN   \n",
              "-0YrXUvXz8112yHap35V2g                     NaN                     NaN   \n",
              "-0lknh8CLIp8XFYwnU59Ag                     NaN                     NaN   \n",
              "...                                        ...                     ...   \n",
              "zz5IHe3r6TIpXBGjQy8m7A                     NaN                     NaN   \n",
              "zz9YDSRIvJQkhMbs0JA2cg                     NaN                     NaN   \n",
              "zzSSEPbr4hkvPBOq1ZM9Yw                     NaN                     NaN   \n",
              "zzZTbKRe1B3VwIajVhIOaw                     NaN                     NaN   \n",
              "zztkCqqgR6VntYbqio4UTQ                     NaN                     NaN   \n",
              "\n",
              "business_id             -7ezd9LpmVkow-eSUHIG9A  -8dM09lp35K28Qn8oaZPdA  ...  \\\n",
              "user_id                                                                 ...   \n",
              "-0AyZxS5C--WySnbW_Q8yQ                     NaN                     NaN  ...   \n",
              "-0KosxqqMBYNfJ7VuvBYDQ                     NaN                     NaN  ...   \n",
              "-0LGLx8LP5dq3zcGO4Bebw                     NaN                     NaN  ...   \n",
              "-0YrXUvXz8112yHap35V2g                     NaN                     NaN  ...   \n",
              "-0lknh8CLIp8XFYwnU59Ag                     NaN                     NaN  ...   \n",
              "...                                        ...                     ...  ...   \n",
              "zz5IHe3r6TIpXBGjQy8m7A                     NaN                     NaN  ...   \n",
              "zz9YDSRIvJQkhMbs0JA2cg                     NaN                     NaN  ...   \n",
              "zzSSEPbr4hkvPBOq1ZM9Yw                     NaN                     NaN  ...   \n",
              "zzZTbKRe1B3VwIajVhIOaw                     NaN                     NaN  ...   \n",
              "zztkCqqgR6VntYbqio4UTQ                     NaN                     NaN  ...   \n",
              "\n",
              "business_id             zv1mH2hoGOuu6ALzQ-14Xg  zvzmKaltuHKPeEcBkiUp1w  \\\n",
              "user_id                                                                  \n",
              "-0AyZxS5C--WySnbW_Q8yQ                     NaN                     NaN   \n",
              "-0KosxqqMBYNfJ7VuvBYDQ                     NaN                     NaN   \n",
              "-0LGLx8LP5dq3zcGO4Bebw                     NaN                     NaN   \n",
              "-0YrXUvXz8112yHap35V2g                     NaN                     NaN   \n",
              "-0lknh8CLIp8XFYwnU59Ag                     NaN                     NaN   \n",
              "...                                        ...                     ...   \n",
              "zz5IHe3r6TIpXBGjQy8m7A                     NaN                     NaN   \n",
              "zz9YDSRIvJQkhMbs0JA2cg                     NaN                     NaN   \n",
              "zzSSEPbr4hkvPBOq1ZM9Yw                     NaN                     NaN   \n",
              "zzZTbKRe1B3VwIajVhIOaw                     NaN                     NaN   \n",
              "zztkCqqgR6VntYbqio4UTQ                     NaN                     NaN   \n",
              "\n",
              "business_id             zwGzwkVeYXE-tRisb8if7A  zwjWB0vnJhVcSehP_LS82A  \\\n",
              "user_id                                                                  \n",
              "-0AyZxS5C--WySnbW_Q8yQ                     NaN                     NaN   \n",
              "-0KosxqqMBYNfJ7VuvBYDQ                     NaN                     NaN   \n",
              "-0LGLx8LP5dq3zcGO4Bebw                     NaN                     NaN   \n",
              "-0YrXUvXz8112yHap35V2g                     NaN                     NaN   \n",
              "-0lknh8CLIp8XFYwnU59Ag                     NaN                     NaN   \n",
              "...                                        ...                     ...   \n",
              "zz5IHe3r6TIpXBGjQy8m7A                     NaN                     NaN   \n",
              "zz9YDSRIvJQkhMbs0JA2cg                     NaN                     NaN   \n",
              "zzSSEPbr4hkvPBOq1ZM9Yw                     NaN                     NaN   \n",
              "zzZTbKRe1B3VwIajVhIOaw                     NaN                     NaN   \n",
              "zztkCqqgR6VntYbqio4UTQ                     NaN                     NaN   \n",
              "\n",
              "business_id             zx5mdLeWxqTdcNyIGmaE9A  zxRmQ_FWVowh8rlzLCSURQ  \\\n",
              "user_id                                                                  \n",
              "-0AyZxS5C--WySnbW_Q8yQ                     NaN                     NaN   \n",
              "-0KosxqqMBYNfJ7VuvBYDQ                     NaN                     NaN   \n",
              "-0LGLx8LP5dq3zcGO4Bebw                     NaN                     NaN   \n",
              "-0YrXUvXz8112yHap35V2g                     NaN                     NaN   \n",
              "-0lknh8CLIp8XFYwnU59Ag                     NaN                     NaN   \n",
              "...                                        ...                     ...   \n",
              "zz5IHe3r6TIpXBGjQy8m7A                     NaN                     NaN   \n",
              "zz9YDSRIvJQkhMbs0JA2cg                     NaN                     NaN   \n",
              "zzSSEPbr4hkvPBOq1ZM9Yw                     NaN                     NaN   \n",
              "zzZTbKRe1B3VwIajVhIOaw                     NaN                     NaN   \n",
              "zztkCqqgR6VntYbqio4UTQ                     NaN                     NaN   \n",
              "\n",
              "business_id             zxWeLWsv6Ebrkb-MDMbD-g  zxqCNze-DDqEZIYrEMJLxg  \\\n",
              "user_id                                                                  \n",
              "-0AyZxS5C--WySnbW_Q8yQ                     NaN                     NaN   \n",
              "-0KosxqqMBYNfJ7VuvBYDQ                     NaN                     NaN   \n",
              "-0LGLx8LP5dq3zcGO4Bebw                     NaN                     NaN   \n",
              "-0YrXUvXz8112yHap35V2g                     NaN                     NaN   \n",
              "-0lknh8CLIp8XFYwnU59Ag                     NaN                     NaN   \n",
              "...                                        ...                     ...   \n",
              "zz5IHe3r6TIpXBGjQy8m7A                     NaN                     NaN   \n",
              "zz9YDSRIvJQkhMbs0JA2cg                     NaN                     NaN   \n",
              "zzSSEPbr4hkvPBOq1ZM9Yw                     NaN                     NaN   \n",
              "zzZTbKRe1B3VwIajVhIOaw                     NaN                     NaN   \n",
              "zztkCqqgR6VntYbqio4UTQ                     NaN                     NaN   \n",
              "\n",
              "business_id             zz0l4dUf28wzPAaTdGqsSw  zzbZtgPYZS8sTIWQH6DwEw  \n",
              "user_id                                                                 \n",
              "-0AyZxS5C--WySnbW_Q8yQ                     NaN                     NaN  \n",
              "-0KosxqqMBYNfJ7VuvBYDQ                     NaN                     NaN  \n",
              "-0LGLx8LP5dq3zcGO4Bebw                     NaN                     NaN  \n",
              "-0YrXUvXz8112yHap35V2g                     NaN                     NaN  \n",
              "-0lknh8CLIp8XFYwnU59Ag                     NaN                     NaN  \n",
              "...                                        ...                     ...  \n",
              "zz5IHe3r6TIpXBGjQy8m7A                     NaN                     NaN  \n",
              "zz9YDSRIvJQkhMbs0JA2cg                     NaN                     NaN  \n",
              "zzSSEPbr4hkvPBOq1ZM9Yw                     NaN                     NaN  \n",
              "zzZTbKRe1B3VwIajVhIOaw                     NaN                     NaN  \n",
              "zztkCqqgR6VntYbqio4UTQ                     NaN                     NaN  \n",
              "\n",
              "[26425 rows x 6466 columns]"
            ],
            "text/html": [
              "\n",
              "  <div id=\"df-c466d903-83de-4b72-8bd5-90c1476ca9d0\">\n",
              "    <div class=\"colab-df-container\">\n",
              "      <div>\n",
              "<style scoped>\n",
              "    .dataframe tbody tr th:only-of-type {\n",
              "        vertical-align: middle;\n",
              "    }\n",
              "\n",
              "    .dataframe tbody tr th {\n",
              "        vertical-align: top;\n",
              "    }\n",
              "\n",
              "    .dataframe thead th {\n",
              "        text-align: right;\n",
              "    }\n",
              "</style>\n",
              "<table border=\"1\" class=\"dataframe\">\n",
              "  <thead>\n",
              "    <tr style=\"text-align: right;\">\n",
              "      <th>business_id</th>\n",
              "      <th>-0E708CsutslDLUuuzWGYQ</th>\n",
              "      <th>-16EH6b1ho0xQqP0Bzm9Mg</th>\n",
              "      <th>-1PG6k_iezwJmRZLB7f6og</th>\n",
              "      <th>-2KK9cqa26KZ1xrfOm9A7w</th>\n",
              "      <th>-2VYztMXVorktljCdQNPmQ</th>\n",
              "      <th>-2aGyAUenQEZWAtNUnMHzg</th>\n",
              "      <th>-3LGekWQ5iHMQO1a9_DDbw</th>\n",
              "      <th>-7KAng29RoHr87mvOFbK9w</th>\n",
              "      <th>-7ezd9LpmVkow-eSUHIG9A</th>\n",
              "      <th>-8dM09lp35K28Qn8oaZPdA</th>\n",
              "      <th>...</th>\n",
              "      <th>zv1mH2hoGOuu6ALzQ-14Xg</th>\n",
              "      <th>zvzmKaltuHKPeEcBkiUp1w</th>\n",
              "      <th>zwGzwkVeYXE-tRisb8if7A</th>\n",
              "      <th>zwjWB0vnJhVcSehP_LS82A</th>\n",
              "      <th>zx5mdLeWxqTdcNyIGmaE9A</th>\n",
              "      <th>zxRmQ_FWVowh8rlzLCSURQ</th>\n",
              "      <th>zxWeLWsv6Ebrkb-MDMbD-g</th>\n",
              "      <th>zxqCNze-DDqEZIYrEMJLxg</th>\n",
              "      <th>zz0l4dUf28wzPAaTdGqsSw</th>\n",
              "      <th>zzbZtgPYZS8sTIWQH6DwEw</th>\n",
              "    </tr>\n",
              "    <tr>\n",
              "      <th>user_id</th>\n",
              "      <th></th>\n",
              "      <th></th>\n",
              "      <th></th>\n",
              "      <th></th>\n",
              "      <th></th>\n",
              "      <th></th>\n",
              "      <th></th>\n",
              "      <th></th>\n",
              "      <th></th>\n",
              "      <th></th>\n",
              "      <th></th>\n",
              "      <th></th>\n",
              "      <th></th>\n",
              "      <th></th>\n",
              "      <th></th>\n",
              "      <th></th>\n",
              "      <th></th>\n",
              "      <th></th>\n",
              "      <th></th>\n",
              "      <th></th>\n",
              "      <th></th>\n",
              "    </tr>\n",
              "  </thead>\n",
              "  <tbody>\n",
              "    <tr>\n",
              "      <th>-0AyZxS5C--WySnbW_Q8yQ</th>\n",
              "      <td>NaN</td>\n",
              "      <td>NaN</td>\n",
              "      <td>NaN</td>\n",
              "      <td>NaN</td>\n",
              "      <td>NaN</td>\n",
              "      <td>NaN</td>\n",
              "      <td>NaN</td>\n",
              "      <td>NaN</td>\n",
              "      <td>NaN</td>\n",
              "      <td>NaN</td>\n",
              "      <td>...</td>\n",
              "      <td>NaN</td>\n",
              "      <td>NaN</td>\n",
              "      <td>NaN</td>\n",
              "      <td>NaN</td>\n",
              "      <td>NaN</td>\n",
              "      <td>NaN</td>\n",
              "      <td>NaN</td>\n",
              "      <td>NaN</td>\n",
              "      <td>NaN</td>\n",
              "      <td>NaN</td>\n",
              "    </tr>\n",
              "    <tr>\n",
              "      <th>-0KosxqqMBYNfJ7VuvBYDQ</th>\n",
              "      <td>NaN</td>\n",
              "      <td>NaN</td>\n",
              "      <td>NaN</td>\n",
              "      <td>NaN</td>\n",
              "      <td>NaN</td>\n",
              "      <td>NaN</td>\n",
              "      <td>NaN</td>\n",
              "      <td>NaN</td>\n",
              "      <td>NaN</td>\n",
              "      <td>NaN</td>\n",
              "      <td>...</td>\n",
              "      <td>NaN</td>\n",
              "      <td>NaN</td>\n",
              "      <td>NaN</td>\n",
              "      <td>NaN</td>\n",
              "      <td>NaN</td>\n",
              "      <td>NaN</td>\n",
              "      <td>NaN</td>\n",
              "      <td>NaN</td>\n",
              "      <td>NaN</td>\n",
              "      <td>NaN</td>\n",
              "    </tr>\n",
              "    <tr>\n",
              "      <th>-0LGLx8LP5dq3zcGO4Bebw</th>\n",
              "      <td>NaN</td>\n",
              "      <td>NaN</td>\n",
              "      <td>NaN</td>\n",
              "      <td>NaN</td>\n",
              "      <td>NaN</td>\n",
              "      <td>NaN</td>\n",
              "      <td>NaN</td>\n",
              "      <td>NaN</td>\n",
              "      <td>NaN</td>\n",
              "      <td>NaN</td>\n",
              "      <td>...</td>\n",
              "      <td>NaN</td>\n",
              "      <td>NaN</td>\n",
              "      <td>NaN</td>\n",
              "      <td>NaN</td>\n",
              "      <td>NaN</td>\n",
              "      <td>NaN</td>\n",
              "      <td>NaN</td>\n",
              "      <td>NaN</td>\n",
              "      <td>NaN</td>\n",
              "      <td>NaN</td>\n",
              "    </tr>\n",
              "    <tr>\n",
              "      <th>-0YrXUvXz8112yHap35V2g</th>\n",
              "      <td>NaN</td>\n",
              "      <td>NaN</td>\n",
              "      <td>NaN</td>\n",
              "      <td>NaN</td>\n",
              "      <td>NaN</td>\n",
              "      <td>NaN</td>\n",
              "      <td>NaN</td>\n",
              "      <td>NaN</td>\n",
              "      <td>NaN</td>\n",
              "      <td>NaN</td>\n",
              "      <td>...</td>\n",
              "      <td>NaN</td>\n",
              "      <td>NaN</td>\n",
              "      <td>NaN</td>\n",
              "      <td>NaN</td>\n",
              "      <td>NaN</td>\n",
              "      <td>NaN</td>\n",
              "      <td>NaN</td>\n",
              "      <td>NaN</td>\n",
              "      <td>NaN</td>\n",
              "      <td>NaN</td>\n",
              "    </tr>\n",
              "    <tr>\n",
              "      <th>-0lknh8CLIp8XFYwnU59Ag</th>\n",
              "      <td>NaN</td>\n",
              "      <td>NaN</td>\n",
              "      <td>NaN</td>\n",
              "      <td>NaN</td>\n",
              "      <td>NaN</td>\n",
              "      <td>NaN</td>\n",
              "      <td>NaN</td>\n",
              "      <td>NaN</td>\n",
              "      <td>NaN</td>\n",
              "      <td>NaN</td>\n",
              "      <td>...</td>\n",
              "      <td>NaN</td>\n",
              "      <td>NaN</td>\n",
              "      <td>NaN</td>\n",
              "      <td>NaN</td>\n",
              "      <td>NaN</td>\n",
              "      <td>NaN</td>\n",
              "      <td>NaN</td>\n",
              "      <td>NaN</td>\n",
              "      <td>NaN</td>\n",
              "      <td>NaN</td>\n",
              "    </tr>\n",
              "    <tr>\n",
              "      <th>...</th>\n",
              "      <td>...</td>\n",
              "      <td>...</td>\n",
              "      <td>...</td>\n",
              "      <td>...</td>\n",
              "      <td>...</td>\n",
              "      <td>...</td>\n",
              "      <td>...</td>\n",
              "      <td>...</td>\n",
              "      <td>...</td>\n",
              "      <td>...</td>\n",
              "      <td>...</td>\n",
              "      <td>...</td>\n",
              "      <td>...</td>\n",
              "      <td>...</td>\n",
              "      <td>...</td>\n",
              "      <td>...</td>\n",
              "      <td>...</td>\n",
              "      <td>...</td>\n",
              "      <td>...</td>\n",
              "      <td>...</td>\n",
              "      <td>...</td>\n",
              "    </tr>\n",
              "    <tr>\n",
              "      <th>zz5IHe3r6TIpXBGjQy8m7A</th>\n",
              "      <td>NaN</td>\n",
              "      <td>NaN</td>\n",
              "      <td>NaN</td>\n",
              "      <td>NaN</td>\n",
              "      <td>NaN</td>\n",
              "      <td>NaN</td>\n",
              "      <td>NaN</td>\n",
              "      <td>NaN</td>\n",
              "      <td>NaN</td>\n",
              "      <td>NaN</td>\n",
              "      <td>...</td>\n",
              "      <td>NaN</td>\n",
              "      <td>NaN</td>\n",
              "      <td>NaN</td>\n",
              "      <td>NaN</td>\n",
              "      <td>NaN</td>\n",
              "      <td>NaN</td>\n",
              "      <td>NaN</td>\n",
              "      <td>NaN</td>\n",
              "      <td>NaN</td>\n",
              "      <td>NaN</td>\n",
              "    </tr>\n",
              "    <tr>\n",
              "      <th>zz9YDSRIvJQkhMbs0JA2cg</th>\n",
              "      <td>NaN</td>\n",
              "      <td>NaN</td>\n",
              "      <td>NaN</td>\n",
              "      <td>NaN</td>\n",
              "      <td>NaN</td>\n",
              "      <td>NaN</td>\n",
              "      <td>NaN</td>\n",
              "      <td>NaN</td>\n",
              "      <td>NaN</td>\n",
              "      <td>NaN</td>\n",
              "      <td>...</td>\n",
              "      <td>NaN</td>\n",
              "      <td>NaN</td>\n",
              "      <td>NaN</td>\n",
              "      <td>NaN</td>\n",
              "      <td>NaN</td>\n",
              "      <td>NaN</td>\n",
              "      <td>NaN</td>\n",
              "      <td>NaN</td>\n",
              "      <td>NaN</td>\n",
              "      <td>NaN</td>\n",
              "    </tr>\n",
              "    <tr>\n",
              "      <th>zzSSEPbr4hkvPBOq1ZM9Yw</th>\n",
              "      <td>NaN</td>\n",
              "      <td>NaN</td>\n",
              "      <td>NaN</td>\n",
              "      <td>NaN</td>\n",
              "      <td>NaN</td>\n",
              "      <td>NaN</td>\n",
              "      <td>NaN</td>\n",
              "      <td>NaN</td>\n",
              "      <td>NaN</td>\n",
              "      <td>NaN</td>\n",
              "      <td>...</td>\n",
              "      <td>NaN</td>\n",
              "      <td>NaN</td>\n",
              "      <td>NaN</td>\n",
              "      <td>NaN</td>\n",
              "      <td>NaN</td>\n",
              "      <td>NaN</td>\n",
              "      <td>NaN</td>\n",
              "      <td>NaN</td>\n",
              "      <td>NaN</td>\n",
              "      <td>NaN</td>\n",
              "    </tr>\n",
              "    <tr>\n",
              "      <th>zzZTbKRe1B3VwIajVhIOaw</th>\n",
              "      <td>NaN</td>\n",
              "      <td>NaN</td>\n",
              "      <td>NaN</td>\n",
              "      <td>NaN</td>\n",
              "      <td>NaN</td>\n",
              "      <td>NaN</td>\n",
              "      <td>NaN</td>\n",
              "      <td>NaN</td>\n",
              "      <td>NaN</td>\n",
              "      <td>NaN</td>\n",
              "      <td>...</td>\n",
              "      <td>NaN</td>\n",
              "      <td>NaN</td>\n",
              "      <td>NaN</td>\n",
              "      <td>NaN</td>\n",
              "      <td>NaN</td>\n",
              "      <td>NaN</td>\n",
              "      <td>NaN</td>\n",
              "      <td>NaN</td>\n",
              "      <td>NaN</td>\n",
              "      <td>NaN</td>\n",
              "    </tr>\n",
              "    <tr>\n",
              "      <th>zztkCqqgR6VntYbqio4UTQ</th>\n",
              "      <td>NaN</td>\n",
              "      <td>NaN</td>\n",
              "      <td>NaN</td>\n",
              "      <td>NaN</td>\n",
              "      <td>NaN</td>\n",
              "      <td>NaN</td>\n",
              "      <td>NaN</td>\n",
              "      <td>NaN</td>\n",
              "      <td>NaN</td>\n",
              "      <td>NaN</td>\n",
              "      <td>...</td>\n",
              "      <td>NaN</td>\n",
              "      <td>NaN</td>\n",
              "      <td>NaN</td>\n",
              "      <td>NaN</td>\n",
              "      <td>NaN</td>\n",
              "      <td>NaN</td>\n",
              "      <td>NaN</td>\n",
              "      <td>NaN</td>\n",
              "      <td>NaN</td>\n",
              "      <td>NaN</td>\n",
              "    </tr>\n",
              "  </tbody>\n",
              "</table>\n",
              "<p>26425 rows × 6466 columns</p>\n",
              "</div>\n",
              "      <button class=\"colab-df-convert\" onclick=\"convertToInteractive('df-c466d903-83de-4b72-8bd5-90c1476ca9d0')\"\n",
              "              title=\"Convert this dataframe to an interactive table.\"\n",
              "              style=\"display:none;\">\n",
              "        \n",
              "  <svg xmlns=\"http://www.w3.org/2000/svg\" height=\"24px\"viewBox=\"0 0 24 24\"\n",
              "       width=\"24px\">\n",
              "    <path d=\"M0 0h24v24H0V0z\" fill=\"none\"/>\n",
              "    <path d=\"M18.56 5.44l.94 2.06.94-2.06 2.06-.94-2.06-.94-.94-2.06-.94 2.06-2.06.94zm-11 1L8.5 8.5l.94-2.06 2.06-.94-2.06-.94L8.5 2.5l-.94 2.06-2.06.94zm10 10l.94 2.06.94-2.06 2.06-.94-2.06-.94-.94-2.06-.94 2.06-2.06.94z\"/><path d=\"M17.41 7.96l-1.37-1.37c-.4-.4-.92-.59-1.43-.59-.52 0-1.04.2-1.43.59L10.3 9.45l-7.72 7.72c-.78.78-.78 2.05 0 2.83L4 21.41c.39.39.9.59 1.41.59.51 0 1.02-.2 1.41-.59l7.78-7.78 2.81-2.81c.8-.78.8-2.07 0-2.86zM5.41 20L4 18.59l7.72-7.72 1.47 1.35L5.41 20z\"/>\n",
              "  </svg>\n",
              "      </button>\n",
              "      \n",
              "  <style>\n",
              "    .colab-df-container {\n",
              "      display:flex;\n",
              "      flex-wrap:wrap;\n",
              "      gap: 12px;\n",
              "    }\n",
              "\n",
              "    .colab-df-convert {\n",
              "      background-color: #E8F0FE;\n",
              "      border: none;\n",
              "      border-radius: 50%;\n",
              "      cursor: pointer;\n",
              "      display: none;\n",
              "      fill: #1967D2;\n",
              "      height: 32px;\n",
              "      padding: 0 0 0 0;\n",
              "      width: 32px;\n",
              "    }\n",
              "\n",
              "    .colab-df-convert:hover {\n",
              "      background-color: #E2EBFA;\n",
              "      box-shadow: 0px 1px 2px rgba(60, 64, 67, 0.3), 0px 1px 3px 1px rgba(60, 64, 67, 0.15);\n",
              "      fill: #174EA6;\n",
              "    }\n",
              "\n",
              "    [theme=dark] .colab-df-convert {\n",
              "      background-color: #3B4455;\n",
              "      fill: #D2E3FC;\n",
              "    }\n",
              "\n",
              "    [theme=dark] .colab-df-convert:hover {\n",
              "      background-color: #434B5C;\n",
              "      box-shadow: 0px 1px 3px 1px rgba(0, 0, 0, 0.15);\n",
              "      filter: drop-shadow(0px 1px 2px rgba(0, 0, 0, 0.3));\n",
              "      fill: #FFFFFF;\n",
              "    }\n",
              "  </style>\n",
              "\n",
              "      <script>\n",
              "        const buttonEl =\n",
              "          document.querySelector('#df-c466d903-83de-4b72-8bd5-90c1476ca9d0 button.colab-df-convert');\n",
              "        buttonEl.style.display =\n",
              "          google.colab.kernel.accessAllowed ? 'block' : 'none';\n",
              "\n",
              "        async function convertToInteractive(key) {\n",
              "          const element = document.querySelector('#df-c466d903-83de-4b72-8bd5-90c1476ca9d0');\n",
              "          const dataTable =\n",
              "            await google.colab.kernel.invokeFunction('convertToInteractive',\n",
              "                                                     [key], {});\n",
              "          if (!dataTable) return;\n",
              "\n",
              "          const docLinkHtml = 'Like what you see? Visit the ' +\n",
              "            '<a target=\"_blank\" href=https://colab.research.google.com/notebooks/data_table.ipynb>data table notebook</a>'\n",
              "            + ' to learn more about interactive tables.';\n",
              "          element.innerHTML = '';\n",
              "          dataTable['output_type'] = 'display_data';\n",
              "          await google.colab.output.renderOutput(dataTable, element);\n",
              "          const docLink = document.createElement('div');\n",
              "          docLink.innerHTML = docLinkHtml;\n",
              "          element.appendChild(docLink);\n",
              "        }\n",
              "      </script>\n",
              "    </div>\n",
              "  </div>\n",
              "  "
            ]
          },
          "metadata": {},
          "execution_count": 38
        }
      ]
    },
    {
      "cell_type": "code",
      "source": [
        "# Truncated Singular Value Decomposition (SVD)\n",
        "\n",
        "# svd_preds_df = pd.DataFrame(df, columns = userid_rating_matrix.columns, index=df['user_id']).transpose()\n",
        "\n",
        "# svd_preds_df"
      ],
      "metadata": {
        "id": "AeRZF5eZVLsZ"
      },
      "execution_count": null,
      "outputs": []
    },
    {
      "cell_type": "code",
      "source": [
        "# Creating Item-Item Matrix based on Cosine Similarity\n",
        "# from sklearn.metrics.pairwise import cosine_similarity\n",
        "# item_item_matrix = cosine_similarity(svd_preds_df)\n",
        "# item_item_matrix= pd.DataFrame(item_item_matrix, columns=svd_preds_df.index, index = svd_preds_df.index)\n",
        "# item_item_matrix"
      ],
      "metadata": {
        "id": "mHjS--IhWU5n"
      },
      "execution_count": null,
      "outputs": []
    },
    {
      "cell_type": "code",
      "source": [
        "P.loc['-0AyZxS5C--WySnbW_Q8yQ']"
      ],
      "metadata": {
        "colab": {
          "base_uri": "https://localhost:8080/"
        },
        "id": "QNGSrzJ4xu1H",
        "outputId": "de67c30f-f2b8-45fc-e2d6-79e5528e1585"
      },
      "execution_count": null,
      "outputs": [
        {
          "output_type": "execute_result",
          "data": {
            "text/plain": [
              "0       0.0\n",
              "1       0.0\n",
              "10      0.0\n",
              "100     0.0\n",
              "1000    0.0\n",
              "       ... \n",
              "√       0.0\n",
              "√©      0.0\n",
              "√®      0.0\n",
              "√°      0.0\n",
              "√±      0.0\n",
              "Name: -0AyZxS5C--WySnbW_Q8yQ, Length: 5000, dtype: float64"
            ]
          },
          "metadata": {},
          "execution_count": 41
        }
      ]
    },
    {
      "cell_type": "code",
      "source": [
        "Q.loc['kcOAfvwLUOAYQO3x4gocqA']"
      ],
      "metadata": {
        "colab": {
          "base_uri": "https://localhost:8080/"
        },
        "id": "ZN3LsTFnxx6Q",
        "outputId": "41a2287f-9a7e-481b-be78-92a36d81054a"
      },
      "execution_count": null,
      "outputs": [
        {
          "output_type": "execute_result",
          "data": {
            "text/plain": [
              "0       0.000000\n",
              "1       0.000000\n",
              "10      0.012293\n",
              "100     0.000000\n",
              "1000    0.000000\n",
              "          ...   \n",
              "√       0.000000\n",
              "√©      0.017030\n",
              "√®      0.000000\n",
              "√°      0.000000\n",
              "√±      0.000000\n",
              "Name: kcOAfvwLUOAYQO3x4gocqA, Length: 5000, dtype: float64"
            ]
          },
          "metadata": {},
          "execution_count": 42
        }
      ]
    },
    {
      "cell_type": "markdown",
      "source": [
        "### Matrix Factorization\n",
        "Matrix factorization is a collaborative filtering method to find the relationship between restaurant’s and users’ entities. \n",
        "Latent features, the association between users and restaurant matrices, are determined to find similarity and make a prediction based on both item and user entities.\n",
        "The matrix factorization of user and restaurant matrices can be generated when the math cost function RMSE is minimized through matrix factorization. ***Gradient descent*** is a method to minimize the cost function."
      ],
      "metadata": {
        "id": "3asPMm2sMAVP"
      }
    },
    {
      "cell_type": "code",
      "source": [
        "def matrix_factorization(R, P, Q, steps=25, gamma=0.001,lamda=0.02):\n",
        "    for step in range(steps):\n",
        "        for i in R.index:\n",
        "            for j in R.columns:\n",
        "                if R.loc[i,j]>0:\n",
        "                    eij=R.loc[i,j]-np.dot(P.loc[i],Q.loc[j])\n",
        "                    P.loc[i]=P.loc[i]+gamma*(eij*Q.loc[j]-lamda*P.loc[i])\n",
        "                    Q.loc[j]=Q.loc[j]+gamma*(eij*P.loc[i]-lamda*Q.loc[j])\n",
        "        e=0\n",
        "        for i in R.index:\n",
        "            for j in R.columns:\n",
        "                if R.loc[i,j]>0:\n",
        "                    e= e + pow(R.loc[i,j]-np.dot(P.loc[i],Q.loc[j]),2)+lamda*(pow(np.linalg.norm(P.loc[i]),2)+pow(np.linalg.norm(Q.loc[j]),2))\n",
        "        if e<0.001:\n",
        "            break\n",
        "        \n",
        "    return P,Q\n",
        "\n",
        "P, Q = matrix_factorization(userid_rating_matrix, P, Q, steps=25, gamma=0.001,lamda=0.02)"
      ],
      "metadata": {
        "id": "Z3Ni50IQLN8e"
      },
      "execution_count": null,
      "outputs": []
    },
    {
      "cell_type": "code",
      "source": [
        "words = \"i want to have chinese food with beautiful interior\"\n",
        "test_df= pd.DataFrame([words], columns=['text'])\n",
        "test_df['text'] = test_df['text'].apply(remove_stopwords)\n",
        "test_vectors = user_vectorizer.transform(test_df['text'])\n",
        "test_v_df = pd.DataFrame(test_vectors.toarray(), index=test_df.index, columns=user_vectorizer.get_feature_names())\n",
        "predictItemRating=pd.DataFrame(np.dot(test_v_df.loc[0],Q.T),index=Q.index,columns=['Rating'])\n",
        "topRecommendations=pd.DataFrame.sort_values(predictItemRating,['Rating'],ascending=[0])[:7]\n",
        "\n",
        "\n",
        "for i in topRecommendations.index:\n",
        "    print(df_business[df_business['business_id']==i]['name'].iloc[0])\n",
        "    print(df_business[df_business['business_id']==i]['categories'].iloc[0])\n",
        "    print(str(df_business[df_business['business_id']==i]['stars'].iloc[0])+ ' '+str(df_business[df_business['business_id']==i]['review_count'].iloc[0]))\n",
        "    print('')"
      ],
      "metadata": {
        "id": "fyiXxj-hLM3R"
      },
      "execution_count": null,
      "outputs": []
    }
  ]
}